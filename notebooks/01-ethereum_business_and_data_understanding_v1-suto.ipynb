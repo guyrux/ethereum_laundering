{
 "cells": [
  {
   "cell_type": "markdown",
   "id": "5dd4159b",
   "metadata": {},
   "source": [
    "# Business and data understanding - ethereum - v1\n",
    "\n",
    "## Purpose\n",
    "Entender o [DataverseNL (2021). Detection of illicit accounts over the Ethereum blockchain](http://doi.org/10.34894/GKAQYN)."
   ]
  },
  {
   "cell_type": "markdown",
   "id": "c1b05055",
   "metadata": {},
   "source": [
    "# Setup\n",
    "\n",
    "## Library import\n",
    "We import all the required Python libraries"
   ]
  },
  {
   "cell_type": "code",
   "execution_count": 1,
   "id": "228713f5",
   "metadata": {
    "ExecuteTime": {
     "end_time": "2023-05-23T23:48:32.333210Z",
     "start_time": "2023-05-23T23:48:24.583019Z"
    }
   },
   "outputs": [
    {
     "data": {
      "text/html": [
       "        <script type=\"text/javascript\">\n",
       "        window.PlotlyConfig = {MathJaxConfig: 'local'};\n",
       "        if (window.MathJax && window.MathJax.Hub && window.MathJax.Hub.Config) {window.MathJax.Hub.Config({SVG: {font: \"STIX-Web\"}});}\n",
       "        if (typeof require !== 'undefined') {\n",
       "        require.undef(\"plotly\");\n",
       "        requirejs.config({\n",
       "            paths: {\n",
       "                'plotly': ['https://cdn.plot.ly/plotly-2.18.2.min']\n",
       "            }\n",
       "        });\n",
       "        require(['plotly'], function(Plotly) {\n",
       "            window._Plotly = Plotly;\n",
       "        });\n",
       "        }\n",
       "        </script>\n",
       "        "
      ]
     },
     "metadata": {},
     "output_type": "display_data"
    }
   ],
   "source": [
    "import os\n",
    "\n",
    "# Data manipulation\n",
    "from feature_engine.encoding import RareLabelEncoder, CountFrequencyEncoder\n",
    "import pandas as pd\n",
    "from pandas.api.types import is_numeric_dtype\n",
    "import numpy as np\n",
    "\n",
    "# Visualizations\n",
    "import plotly\n",
    "import plotly.graph_objs as go\n",
    "import plotly.offline as ply\n",
    "plotly.offline.init_notebook_mode(connected=True)\n",
    "import matplotlib as plt\n",
    "import seaborn as sns\n",
    "\n",
    "import missingno as msno\n",
    "from pycaret.classification import ClassificationExperiment\n",
    "from sklearn.model_selection import train_test_split\n",
    "from sklearn.pipeline import Pipeline\n",
    "from ydata_profiling import ProfileReport\n",
    "\n",
    "# Autoreload extension\n",
    "if 'autoreload' not in get_ipython().extension_manager.loaded:\n",
    "    %load_ext autoreload\n",
    "    \n",
    "%autoreload 2\n",
    "\n",
    "# Options for pandas\n",
    "# pd.options.display.max_columns = None\n",
    "pd.set_option('display.max_rows', None)\n",
    "pd.set_option('display.max_columns', None)\n",
    "pd.set_option('display.max_colwidth', None)\n",
    "pd.set_option('display.max_rows', 50)\n",
    "pd.set_option('display.float_format', '{:.5f}'.format)\n",
    "# pd.options.display.float_format = '{:.5f}'.format\n",
    "# pd.options.display.max_rows = 120\n",
    "\n",
    "sns.set_context(context='paper', font_scale=1, rc=None)\n",
    "sns.set_style(\"ticks\")\n",
    "sns.set_palette(sns.color_palette())"
   ]
  },
  {
   "cell_type": "markdown",
   "id": "85f479b4",
   "metadata": {},
   "source": [
    "## Local library import\n",
    "We import all the required local libraries libraries"
   ]
  },
  {
   "cell_type": "code",
   "execution_count": 2,
   "id": "2e633141",
   "metadata": {
    "ExecuteTime": {
     "end_time": "2023-05-23T23:48:32.573042Z",
     "start_time": "2023-05-23T23:48:32.335195Z"
    }
   },
   "outputs": [],
   "source": [
    "os.chdir('../')\n",
    "from src.utils.data_describe import breve_descricao, serie_nulos, cardinalidade, check_for_equal_columns\n",
    "os.chdir('./notebooks/')\n",
    "\n",
    "def is_numeric(col):\n",
    "    try:\n",
    "        pd.to_numeric(col)\n",
    "        return True\n",
    "    except:\n",
    "        return False"
   ]
  },
  {
   "cell_type": "markdown",
   "id": "72c6a4cf",
   "metadata": {},
   "source": [
    "# Parameter definition\n",
    "We set all relevant parameters for our notebook. By convention, parameters are uppercase, while all the \n",
    "other variables follow Python's guidelines."
   ]
  },
  {
   "cell_type": "code",
   "execution_count": 3,
   "id": "908ea72a",
   "metadata": {
    "ExecuteTime": {
     "end_time": "2023-05-23T23:48:32.808251Z",
     "start_time": "2023-05-23T23:48:32.574042Z"
    }
   },
   "outputs": [],
   "source": [
    "RAW_FOLDER = '../data/raw/'\n",
    "INTERIM_FOLDER = '../data/interim/'\n",
    "PROCESSED_FOLDER = '../data/processed/'\n",
    "REPORTS_FOLDER = '../reports/'\n",
    "RANDOM_STATE = 42"
   ]
  },
  {
   "cell_type": "markdown",
   "id": "2f483714",
   "metadata": {},
   "source": [
    "\n",
    "# Data import\n",
    "We retrieve all the required data for the analysis."
   ]
  },
  {
   "cell_type": "code",
   "execution_count": 4,
   "id": "e1ad7345",
   "metadata": {
    "ExecuteTime": {
     "end_time": "2023-05-23T23:48:33.169449Z",
     "start_time": "2023-05-23T23:48:32.810244Z"
    }
   },
   "outputs": [
    {
     "name": "stdout",
     "output_type": "stream",
     "text": [
      "PARQUET file loaded. Shape: (4681, 49)\n"
     ]
    }
   ],
   "source": [
    "try:\n",
    "    df_raw = pd.read_parquet(INTERIM_FOLDER + 'ethereum_complete.pqt')\n",
    "    print(f'PARQUET file loaded. Shape: {df_raw.shape}')\n",
    "except FileNotFoundError as e:\n",
    "    df_raw = pd.read_csv(RAW_FOLDER + 'ethereum_complete.csv')\n",
    "    df_raw.drop(columns=['Index'], inplace=True)\n",
    "   \n",
    "    df_raw.to_parquet(INTERIM_FOLDER +  'ethereum_complete.pqt', index=False)\n",
    "    print(f'EXCEL file loaded and PARQUET created. Shape: {df_raw.shape}')"
   ]
  },
  {
   "cell_type": "code",
   "execution_count": 5,
   "id": "30af7250",
   "metadata": {
    "ExecuteTime": {
     "end_time": "2023-05-23T23:48:33.424005Z",
     "start_time": "2023-05-23T23:48:33.170451Z"
    }
   },
   "outputs": [
    {
     "data": {
      "text/html": [
       "<div>\n",
       "<style scoped>\n",
       "    .dataframe tbody tr th:only-of-type {\n",
       "        vertical-align: middle;\n",
       "    }\n",
       "\n",
       "    .dataframe tbody tr th {\n",
       "        vertical-align: top;\n",
       "    }\n",
       "\n",
       "    .dataframe thead th {\n",
       "        text-align: right;\n",
       "    }\n",
       "</style>\n",
       "<table border=\"1\" class=\"dataframe\">\n",
       "  <thead>\n",
       "    <tr style=\"text-align: right;\">\n",
       "      <th></th>\n",
       "      <th>Address</th>\n",
       "      <th>FLAG</th>\n",
       "      <th>Avg_min_between_sent_tnx</th>\n",
       "      <th>Avg_min_between_received_tnx</th>\n",
       "      <th>Time_Diff_between_first_and_last_(Mins)</th>\n",
       "      <th>Sent_tnx</th>\n",
       "      <th>Received_Tnx</th>\n",
       "      <th>Number_of_Created_Contracts</th>\n",
       "      <th>Unique_Received_From_Addresses</th>\n",
       "      <th>Unique_Sent_To_Addresses</th>\n",
       "      <th>min_value_received</th>\n",
       "      <th>max_value_received</th>\n",
       "      <th>avg_val_received</th>\n",
       "      <th>min_val_sent</th>\n",
       "      <th>max_val_sent</th>\n",
       "      <th>avg_val_sent</th>\n",
       "      <th>min_value_sent_to_contract</th>\n",
       "      <th>max_val_sent_to_contract</th>\n",
       "      <th>avg_value_sent_to_contract</th>\n",
       "      <th>total_transactions_(including_tnx_to_create_contract)</th>\n",
       "      <th>total_Ether_sent</th>\n",
       "      <th>total_ether_received</th>\n",
       "      <th>total_ether_sent_contracts</th>\n",
       "      <th>total_ether_balance</th>\n",
       "      <th>Total_ERC20_tnxs</th>\n",
       "      <th>ERC20_total_Ether_received</th>\n",
       "      <th>ERC20_total_ether_sent</th>\n",
       "      <th>ERC20_total_Ether_sent_contract</th>\n",
       "      <th>ERC20_uniq_sent_addr</th>\n",
       "      <th>ERC20_uniq_rec_addr</th>\n",
       "      <th>ERC20_uniq_sent_addr.1</th>\n",
       "      <th>ERC20_uniq_rec_contract_addr</th>\n",
       "      <th>ERC20_avg_time_between_sent_tnx</th>\n",
       "      <th>ERC20_avg_time_between_rec_tnx</th>\n",
       "      <th>ERC20_avg_time_between_rec_2_tnx</th>\n",
       "      <th>ERC20_avg_time_between_contract_tnx</th>\n",
       "      <th>ERC20_min_val_rec</th>\n",
       "      <th>ERC20_max_val_rec</th>\n",
       "      <th>ERC20_avg_val_rec</th>\n",
       "      <th>ERC20_min_val_sent</th>\n",
       "      <th>ERC20_max_val_sent</th>\n",
       "      <th>ERC20_avg_val_sent</th>\n",
       "      <th>ERC20_min_val_sent_contract</th>\n",
       "      <th>ERC20_max_val_sent_contract</th>\n",
       "      <th>ERC20_avg_val_sent_contract</th>\n",
       "      <th>ERC20_uniq_sent_token_name</th>\n",
       "      <th>ERC20_uniq_rec_token_name</th>\n",
       "      <th>ERC20_most_sent_token_type</th>\n",
       "      <th>ERC20_most_rec_token_type</th>\n",
       "    </tr>\n",
       "  </thead>\n",
       "  <tbody>\n",
       "    <tr>\n",
       "      <th>0</th>\n",
       "      <td>0x0020731604c882cf7bf8c444be97d17b19ea4316</td>\n",
       "      <td>1</td>\n",
       "      <td>1457.31000</td>\n",
       "      <td>34.12000</td>\n",
       "      <td>4815.43000</td>\n",
       "      <td>3</td>\n",
       "      <td>13</td>\n",
       "      <td>0</td>\n",
       "      <td>10</td>\n",
       "      <td>3</td>\n",
       "      <td>1.00000</td>\n",
       "      <td>2.50105</td>\n",
       "      <td>1.34844</td>\n",
       "      <td>1.00087</td>\n",
       "      <td>11.27787</td>\n",
       "      <td>5.84292</td>\n",
       "      <td>0</td>\n",
       "      <td>0</td>\n",
       "      <td>0</td>\n",
       "      <td>16</td>\n",
       "      <td>17.52875</td>\n",
       "      <td>17.52978</td>\n",
       "      <td>0</td>\n",
       "      <td>0.00104</td>\n",
       "      <td>NaN</td>\n",
       "      <td>NaN</td>\n",
       "      <td>NaN</td>\n",
       "      <td>NaN</td>\n",
       "      <td>NaN</td>\n",
       "      <td>NaN</td>\n",
       "      <td>NaN</td>\n",
       "      <td>NaN</td>\n",
       "      <td>NaN</td>\n",
       "      <td>NaN</td>\n",
       "      <td>NaN</td>\n",
       "      <td>NaN</td>\n",
       "      <td>NaN</td>\n",
       "      <td>NaN</td>\n",
       "      <td>NaN</td>\n",
       "      <td>NaN</td>\n",
       "      <td>NaN</td>\n",
       "      <td>NaN</td>\n",
       "      <td>NaN</td>\n",
       "      <td>NaN</td>\n",
       "      <td>NaN</td>\n",
       "      <td>NaN</td>\n",
       "      <td>NaN</td>\n",
       "      <td>None</td>\n",
       "      <td>None</td>\n",
       "    </tr>\n",
       "    <tr>\n",
       "      <th>1</th>\n",
       "      <td>0x002bf459dc58584d58886169ea0e80f3ca95ffaf</td>\n",
       "      <td>1</td>\n",
       "      <td>3976.50000</td>\n",
       "      <td>834.77000</td>\n",
       "      <td>9622.53000</td>\n",
       "      <td>2</td>\n",
       "      <td>2</td>\n",
       "      <td>0</td>\n",
       "      <td>1</td>\n",
       "      <td>2</td>\n",
       "      <td>0.58627</td>\n",
       "      <td>0.94751</td>\n",
       "      <td>0.76689</td>\n",
       "      <td>0.58541</td>\n",
       "      <td>0.94728</td>\n",
       "      <td>0.76635</td>\n",
       "      <td>0</td>\n",
       "      <td>0</td>\n",
       "      <td>0</td>\n",
       "      <td>4</td>\n",
       "      <td>1.53269</td>\n",
       "      <td>1.53378</td>\n",
       "      <td>0</td>\n",
       "      <td>0.00109</td>\n",
       "      <td>1.00000</td>\n",
       "      <td>1.33700</td>\n",
       "      <td>0.00000</td>\n",
       "      <td>0.00000</td>\n",
       "      <td>0.00000</td>\n",
       "      <td>1.00000</td>\n",
       "      <td>0.00000</td>\n",
       "      <td>1.00000</td>\n",
       "      <td>0.00000</td>\n",
       "      <td>0.00000</td>\n",
       "      <td>0.00000</td>\n",
       "      <td>0.00000</td>\n",
       "      <td>1.33700</td>\n",
       "      <td>1.33700</td>\n",
       "      <td>1.33700</td>\n",
       "      <td>0.00000</td>\n",
       "      <td>0.00000</td>\n",
       "      <td>0.00000</td>\n",
       "      <td>0.00000</td>\n",
       "      <td>0.00000</td>\n",
       "      <td>0.00000</td>\n",
       "      <td>0.00000</td>\n",
       "      <td>1.00000</td>\n",
       "      <td></td>\n",
       "      <td>Blockwell say NOTSAFU</td>\n",
       "    </tr>\n",
       "    <tr>\n",
       "      <th>2</th>\n",
       "      <td>0x002f0c8119c16d310342d869ca8bf6ace34d9c39</td>\n",
       "      <td>1</td>\n",
       "      <td>112.90000</td>\n",
       "      <td>31.87000</td>\n",
       "      <td>321.42000</td>\n",
       "      <td>2</td>\n",
       "      <td>3</td>\n",
       "      <td>0</td>\n",
       "      <td>3</td>\n",
       "      <td>1</td>\n",
       "      <td>0.00102</td>\n",
       "      <td>0.81780</td>\n",
       "      <td>0.43961</td>\n",
       "      <td>0.50039</td>\n",
       "      <td>0.81751</td>\n",
       "      <td>0.65895</td>\n",
       "      <td>0</td>\n",
       "      <td>0</td>\n",
       "      <td>0</td>\n",
       "      <td>5</td>\n",
       "      <td>1.31790</td>\n",
       "      <td>1.31882</td>\n",
       "      <td>0</td>\n",
       "      <td>0.00092</td>\n",
       "      <td>1.00000</td>\n",
       "      <td>1.33700</td>\n",
       "      <td>0.00000</td>\n",
       "      <td>0.00000</td>\n",
       "      <td>0.00000</td>\n",
       "      <td>1.00000</td>\n",
       "      <td>0.00000</td>\n",
       "      <td>1.00000</td>\n",
       "      <td>0.00000</td>\n",
       "      <td>0.00000</td>\n",
       "      <td>0.00000</td>\n",
       "      <td>0.00000</td>\n",
       "      <td>1.33700</td>\n",
       "      <td>1.33700</td>\n",
       "      <td>1.33700</td>\n",
       "      <td>0.00000</td>\n",
       "      <td>0.00000</td>\n",
       "      <td>0.00000</td>\n",
       "      <td>0.00000</td>\n",
       "      <td>0.00000</td>\n",
       "      <td>0.00000</td>\n",
       "      <td>0.00000</td>\n",
       "      <td>1.00000</td>\n",
       "      <td></td>\n",
       "      <td>Blockwell say NOTSAFU</td>\n",
       "    </tr>\n",
       "  </tbody>\n",
       "</table>\n",
       "</div>"
      ],
      "text/plain": [
       "                                      Address  FLAG  Avg_min_between_sent_tnx  \\\n",
       "0  0x0020731604c882cf7bf8c444be97d17b19ea4316     1                1457.31000   \n",
       "1  0x002bf459dc58584d58886169ea0e80f3ca95ffaf     1                3976.50000   \n",
       "2  0x002f0c8119c16d310342d869ca8bf6ace34d9c39     1                 112.90000   \n",
       "\n",
       "   Avg_min_between_received_tnx  Time_Diff_between_first_and_last_(Mins)  \\\n",
       "0                      34.12000                               4815.43000   \n",
       "1                     834.77000                               9622.53000   \n",
       "2                      31.87000                                321.42000   \n",
       "\n",
       "   Sent_tnx  Received_Tnx  Number_of_Created_Contracts  \\\n",
       "0         3            13                            0   \n",
       "1         2             2                            0   \n",
       "2         2             3                            0   \n",
       "\n",
       "   Unique_Received_From_Addresses  Unique_Sent_To_Addresses  \\\n",
       "0                              10                         3   \n",
       "1                               1                         2   \n",
       "2                               3                         1   \n",
       "\n",
       "   min_value_received  max_value_received  avg_val_received  min_val_sent  \\\n",
       "0             1.00000             2.50105           1.34844       1.00087   \n",
       "1             0.58627             0.94751           0.76689       0.58541   \n",
       "2             0.00102             0.81780           0.43961       0.50039   \n",
       "\n",
       "   max_val_sent  avg_val_sent  min_value_sent_to_contract  \\\n",
       "0      11.27787       5.84292                           0   \n",
       "1       0.94728       0.76635                           0   \n",
       "2       0.81751       0.65895                           0   \n",
       "\n",
       "   max_val_sent_to_contract  avg_value_sent_to_contract  \\\n",
       "0                         0                           0   \n",
       "1                         0                           0   \n",
       "2                         0                           0   \n",
       "\n",
       "   total_transactions_(including_tnx_to_create_contract)  total_Ether_sent  \\\n",
       "0                                                     16          17.52875   \n",
       "1                                                      4           1.53269   \n",
       "2                                                      5           1.31790   \n",
       "\n",
       "   total_ether_received  total_ether_sent_contracts  total_ether_balance  \\\n",
       "0              17.52978                           0              0.00104   \n",
       "1               1.53378                           0              0.00109   \n",
       "2               1.31882                           0              0.00092   \n",
       "\n",
       "   Total_ERC20_tnxs  ERC20_total_Ether_received  ERC20_total_ether_sent  \\\n",
       "0               NaN                         NaN                     NaN   \n",
       "1           1.00000                     1.33700                 0.00000   \n",
       "2           1.00000                     1.33700                 0.00000   \n",
       "\n",
       "   ERC20_total_Ether_sent_contract  ERC20_uniq_sent_addr  ERC20_uniq_rec_addr  \\\n",
       "0                              NaN                   NaN                  NaN   \n",
       "1                          0.00000               0.00000              1.00000   \n",
       "2                          0.00000               0.00000              1.00000   \n",
       "\n",
       "   ERC20_uniq_sent_addr.1  ERC20_uniq_rec_contract_addr  \\\n",
       "0                     NaN                           NaN   \n",
       "1                 0.00000                       1.00000   \n",
       "2                 0.00000                       1.00000   \n",
       "\n",
       "   ERC20_avg_time_between_sent_tnx  ERC20_avg_time_between_rec_tnx  \\\n",
       "0                              NaN                             NaN   \n",
       "1                          0.00000                         0.00000   \n",
       "2                          0.00000                         0.00000   \n",
       "\n",
       "   ERC20_avg_time_between_rec_2_tnx  ERC20_avg_time_between_contract_tnx  \\\n",
       "0                               NaN                                  NaN   \n",
       "1                           0.00000                              0.00000   \n",
       "2                           0.00000                              0.00000   \n",
       "\n",
       "   ERC20_min_val_rec  ERC20_max_val_rec  ERC20_avg_val_rec  \\\n",
       "0                NaN                NaN                NaN   \n",
       "1            1.33700            1.33700            1.33700   \n",
       "2            1.33700            1.33700            1.33700   \n",
       "\n",
       "   ERC20_min_val_sent  ERC20_max_val_sent  ERC20_avg_val_sent  \\\n",
       "0                 NaN                 NaN                 NaN   \n",
       "1             0.00000             0.00000             0.00000   \n",
       "2             0.00000             0.00000             0.00000   \n",
       "\n",
       "   ERC20_min_val_sent_contract  ERC20_max_val_sent_contract  \\\n",
       "0                          NaN                          NaN   \n",
       "1                      0.00000                      0.00000   \n",
       "2                      0.00000                      0.00000   \n",
       "\n",
       "   ERC20_avg_val_sent_contract  ERC20_uniq_sent_token_name  \\\n",
       "0                          NaN                         NaN   \n",
       "1                      0.00000                     0.00000   \n",
       "2                      0.00000                     0.00000   \n",
       "\n",
       "   ERC20_uniq_rec_token_name ERC20_most_sent_token_type  \\\n",
       "0                        NaN                       None   \n",
       "1                    1.00000                              \n",
       "2                    1.00000                              \n",
       "\n",
       "  ERC20_most_rec_token_type  \n",
       "0                      None  \n",
       "1     Blockwell say NOTSAFU  \n",
       "2     Blockwell say NOTSAFU  "
      ]
     },
     "metadata": {},
     "output_type": "display_data"
    }
   ],
   "source": [
    "display(df_raw.head(3))"
   ]
  },
  {
   "cell_type": "markdown",
   "id": "9f4faf17",
   "metadata": {},
   "source": [
    "# Data evaluation\n",
    "\n",
    "## Cardinality and null values"
   ]
  },
  {
   "cell_type": "code",
   "execution_count": 6,
   "id": "47e753e1",
   "metadata": {
    "ExecuteTime": {
     "end_time": "2023-05-23T23:48:33.663499Z",
     "start_time": "2023-05-23T23:48:33.426006Z"
    }
   },
   "outputs": [],
   "source": [
    "df_evaluation = df_raw.copy()\n",
    "\n",
    "# lst_duplicated_columns = [\n",
    "#     'ERC20_uniq_sent_addr.1', 'ERC20_avg_time_between_rec_2_tnx', 'ERC20_avg_val_sent_contract',\n",
    "#     'ERC20_max_val_sent_contract', 'ERC20_min_val_sent_contract',\n",
    "# ]\n",
    "\n",
    "# df_evaluation.drop(columns=lst_duplicated_columns, inplace=True)"
   ]
  },
  {
   "cell_type": "code",
   "execution_count": 7,
   "id": "2fe11c74",
   "metadata": {
    "ExecuteTime": {
     "end_time": "2023-05-23T23:48:33.900936Z",
     "start_time": "2023-05-23T23:48:33.664475Z"
    }
   },
   "outputs": [
    {
     "name": "stdout",
     "output_type": "stream",
     "text": [
      "column: Address - not numeric 0\n",
      "column: FLAG - numeric 1\n",
      "column: Avg_min_between_sent_tnx - numeric 2\n",
      "column: Avg_min_between_received_tnx - numeric 3\n",
      "column: Time_Diff_between_first_and_last_(Mins) - numeric 4\n",
      "column: Sent_tnx - numeric 5\n",
      "column: Received_Tnx - numeric 6\n",
      "column: Number_of_Created_Contracts - numeric 7\n",
      "column: Unique_Received_From_Addresses - numeric 8\n",
      "column: Unique_Sent_To_Addresses - numeric 9\n",
      "column: min_value_received - numeric 10\n",
      "column: max_value_received - numeric 11\n",
      "column: avg_val_received - numeric 12\n",
      "column: min_val_sent - numeric 13\n",
      "column: max_val_sent - numeric 14\n",
      "column: avg_val_sent - numeric 15\n",
      "column: min_value_sent_to_contract - numeric 16\n",
      "column: max_val_sent_to_contract - numeric 17\n",
      "column: avg_value_sent_to_contract - numeric 18\n",
      "column: total_transactions_(including_tnx_to_create_contract) - numeric 19\n",
      "column: total_Ether_sent - numeric 20\n",
      "column: total_ether_received - numeric 21\n",
      "column: total_ether_sent_contracts - numeric 22\n",
      "column: total_ether_balance - numeric 23\n",
      "column: Total_ERC20_tnxs - numeric 24\n",
      "column: ERC20_total_Ether_received - numeric 25\n",
      "column: ERC20_total_ether_sent - numeric 26\n",
      "column: ERC20_total_Ether_sent_contract - numeric 27\n",
      "column: ERC20_uniq_sent_addr - numeric 28\n",
      "column: ERC20_uniq_rec_addr - numeric 29\n",
      "column: ERC20_uniq_sent_addr.1 - numeric 30\n",
      "column: ERC20_uniq_rec_contract_addr - numeric 31\n",
      "column: ERC20_avg_time_between_sent_tnx - numeric 32\n",
      "column: ERC20_avg_time_between_rec_tnx - numeric 33\n",
      "column: ERC20_avg_time_between_rec_2_tnx - numeric 34\n",
      "column: ERC20_avg_time_between_contract_tnx - numeric 35\n",
      "column: ERC20_min_val_rec - numeric 36\n",
      "column: ERC20_max_val_rec - numeric 37\n",
      "column: ERC20_avg_val_rec - numeric 38\n",
      "column: ERC20_min_val_sent - numeric 39\n",
      "column: ERC20_max_val_sent - numeric 40\n",
      "column: ERC20_avg_val_sent - numeric 41\n",
      "column: ERC20_min_val_sent_contract - numeric 42\n",
      "column: ERC20_max_val_sent_contract - numeric 43\n",
      "column: ERC20_avg_val_sent_contract - numeric 44\n",
      "column: ERC20_uniq_sent_token_name - numeric 45\n",
      "column: ERC20_uniq_rec_token_name - numeric 46\n",
      "column: ERC20_most_sent_token_type - not numeric 0\n",
      "column: ERC20_most_rec_token_type - not numeric 0\n"
     ]
    }
   ],
   "source": [
    "i = j = 0\n",
    "\n",
    "for column in df_evaluation.columns:\n",
    "    if is_numeric(df_evaluation[column]):\n",
    "        i += 1\n",
    "        print(f'column: {column} - numeric {i}')\n",
    "    else:\n",
    "        print(f'column: {column} - not numeric {j}')\n"
   ]
  },
  {
   "cell_type": "code",
   "execution_count": 8,
   "id": "3bcfac8e",
   "metadata": {
    "ExecuteTime": {
     "end_time": "2023-05-23T23:48:34.137315Z",
     "start_time": "2023-05-23T23:48:33.901944Z"
    }
   },
   "outputs": [
    {
     "data": {
      "text/plain": [
       "True"
      ]
     },
     "execution_count": 8,
     "metadata": {},
     "output_type": "execute_result"
    }
   ],
   "source": [
    "is_numeric_dtype(df_evaluation['min_value_sent_to_contract'])"
   ]
  },
  {
   "cell_type": "code",
   "execution_count": 9,
   "id": "a5b87adc",
   "metadata": {
    "ExecuteTime": {
     "end_time": "2023-05-23T23:48:34.370626Z",
     "start_time": "2023-05-23T23:48:34.139322Z"
    }
   },
   "outputs": [
    {
     "name": "stdout",
     "output_type": "stream",
     "text": [
      "45 ['Avg_min_between_sent_tnx', 'Avg_min_between_received_tnx', 'Time_Diff_between_first_and_last_(Mins)', 'Sent_tnx', 'Received_Tnx', 'Number_of_Created_Contracts', 'Unique_Received_From_Addresses', 'Unique_Sent_To_Addresses', 'min_value_received', 'max_value_received', 'avg_val_received', 'min_val_sent', 'max_val_sent', 'avg_val_sent', 'min_value_sent_to_contract', 'max_val_sent_to_contract', 'avg_value_sent_to_contract', 'total_transactions_(including_tnx_to_create_contract)', 'total_Ether_sent', 'total_ether_received', 'total_ether_sent_contracts', 'total_ether_balance', 'Total_ERC20_tnxs', 'ERC20_total_Ether_received', 'ERC20_total_ether_sent', 'ERC20_total_Ether_sent_contract', 'ERC20_uniq_sent_addr', 'ERC20_uniq_rec_addr', 'ERC20_uniq_sent_addr.1', 'ERC20_uniq_rec_contract_addr', 'ERC20_avg_time_between_sent_tnx', 'ERC20_avg_time_between_rec_tnx', 'ERC20_avg_time_between_rec_2_tnx', 'ERC20_avg_time_between_contract_tnx', 'ERC20_min_val_rec', 'ERC20_max_val_rec', 'ERC20_avg_val_rec', 'ERC20_min_val_sent', 'ERC20_max_val_sent', 'ERC20_avg_val_sent', 'ERC20_min_val_sent_contract', 'ERC20_max_val_sent_contract', 'ERC20_avg_val_sent_contract', 'ERC20_uniq_sent_token_name', 'ERC20_uniq_rec_token_name']\n"
     ]
    }
   ],
   "source": [
    "lst_numeric_columns = df_evaluation.select_dtypes(exclude=object).columns.tolist()\n",
    "lst_numeric_columns.remove('FLAG')\n",
    "print(len(lst_numeric_columns), lst_numeric_columns)"
   ]
  },
  {
   "cell_type": "code",
   "execution_count": 10,
   "id": "aebc0292",
   "metadata": {
    "ExecuteTime": {
     "end_time": "2023-05-23T23:48:34.686663Z",
     "start_time": "2023-05-23T23:48:34.373628Z"
    }
   },
   "outputs": [
    {
     "data": {
      "text/html": [
       "<div>\n",
       "<style scoped>\n",
       "    .dataframe tbody tr th:only-of-type {\n",
       "        vertical-align: middle;\n",
       "    }\n",
       "\n",
       "    .dataframe tbody tr th {\n",
       "        vertical-align: top;\n",
       "    }\n",
       "\n",
       "    .dataframe thead th {\n",
       "        text-align: right;\n",
       "    }\n",
       "</style>\n",
       "<table border=\"1\" class=\"dataframe\">\n",
       "  <thead>\n",
       "    <tr style=\"text-align: right;\">\n",
       "      <th></th>\n",
       "      <th>Atributo</th>\n",
       "      <th>DType</th>\n",
       "      <th>Cardinalidade</th>\n",
       "      <th>Valores</th>\n",
       "      <th>Proporção Nulos</th>\n",
       "    </tr>\n",
       "  </thead>\n",
       "  <tbody>\n",
       "    <tr>\n",
       "      <th>ERC20_most_rec_token_type</th>\n",
       "      <td>ERC20_most_rec_token_type</td>\n",
       "      <td>object</td>\n",
       "      <td>280</td>\n",
       "      <td>[\u0001,  , 0, A2A(B) STeX Exchange Token, ABCC invite, AI Gaming Coin, AICRYPTO, AION, ARP, ATLANT, ATN, AdEx, Aeternity, AirCoin, Amber, Amplify, An Etheal Promo, AppCoins, Aragon, ArtisTurba, Asobicoin promo, Authoreon, Authorship, Azbit, BAT, BAX, BBN, BCShareS, BOX Token, BUZCOIN, Bancor, Beauty Coin, BeautyChain, BigBang Game Coin Token, BinaryCoin, BitAir, BitClave, Bitcoin EOS, BizCoin, Blockwell say NOTSAFU, Blupee, Bounty, Bulleon Promo Token, CANDY, CGW, CIChain, CRYPTOPUNKS, Cai Token, CargoX, Carrots, Cashaa, Celer Network, Centra, ChainLink Token, Civic, CoinBene Coin, CoinDash, Coineal Token, CosmoCoin, Crypterium, Crypto.com, Cryptonex, CyberMiles, Cybereits Token, DALECOIN, DATAcoin, DCORP, DEBITUM, DEW, DGD, DICE, DIGIBYTE, DMTS, Dai Stablecoin v1.0, Dao.Casino, Data, Decentraland, Delphy Token, Digital Developers Fund Token, Dragon, Dropil, EBCoin, ECHARGE, ELF, EMO tokens, EOS, ERC20, ESSENTIA, EasyEosToken, Edgeless, ElectrifyAsia, Electronic Energy Coin, Energem, EnjinCoin, Enumivo, Ethbits, EtherEcash, Ethereum, Ethos, Everest, ...]</td>\n",
       "      <td>0.17859</td>\n",
       "    </tr>\n",
       "    <tr>\n",
       "      <th>ERC20_most_sent_token_type</th>\n",
       "      <td>ERC20_most_sent_token_type</td>\n",
       "      <td>object</td>\n",
       "      <td>172</td>\n",
       "      <td>[\u0001,  , '', 0, 21Million, AION, ARBITRAGE, AVT, AdEx, Adshares, Aeternity, AirToken, Aragon, Authorship, BAT, BCShareS, BNB, BTOCoin, BUZCOIN, Bancor, BinaryCoin, BitDice, BizCoin, Blackmoon Crypto Token, Bounty0x, Brickblock, Bytom, CANDY, CRYPTOPUNKS, CarTaxi, Cashaa, ChainLink Token, CharterCoin, Civic, Cofoundit, CoinDash, Crypterium, Crypto.com, DADI, DATAcoin, DGD, DICE, Dao.Casino, Decent.Bet Token, Decentraland, Digital Developers Fund Token, Digix Gold Token, EDT, EOS, ERC20, ETHWrapper, Electronic Energy Coin, EnjinCoin, Ether, Ethos, Fair Token, Fantom Token, Feed, Fortecoin, Friendz Coin, FunFair, GECoin, GRID, Gemini dollar, Gnosis, Golem, Guppy, Happy Coin, Hawala, Humaniq, HuobiPoolToken, HuobiToken, Hydro, IBCCoin, ICO, ICON, ICONOMI, IDICE, IOSToken, IOT Chain, IUNGO, Identity Hub Token, KickCoin, KyberNetwork, Litecoin One, Livepeer Token, Loopring, Lucky Token, Lunyr, MCAP, MEX, Magna, Master Coin, Mavrodi, Merculet, Mithril Token, MobileGo, Monetha, NOAHCOIN, NaN, ...]</td>\n",
       "      <td>0.17731</td>\n",
       "    </tr>\n",
       "    <tr>\n",
       "      <th>ERC20_total_ether_sent</th>\n",
       "      <td>ERC20_total_ether_sent</td>\n",
       "      <td>float64</td>\n",
       "      <td>447</td>\n",
       "      <td>[0.0, 112000000000.0]</td>\n",
       "      <td>0.17710</td>\n",
       "    </tr>\n",
       "    <tr>\n",
       "      <th>Total_ERC20_tnxs</th>\n",
       "      <td>Total_ERC20_tnxs</td>\n",
       "      <td>float64</td>\n",
       "      <td>199</td>\n",
       "      <td>[0.0, 10000.0]</td>\n",
       "      <td>0.17710</td>\n",
       "    </tr>\n",
       "    <tr>\n",
       "      <th>ERC20_total_Ether_sent_contract</th>\n",
       "      <td>ERC20_total_Ether_sent_contract</td>\n",
       "      <td>float64</td>\n",
       "      <td>22</td>\n",
       "      <td>[0.0, 416000.0]</td>\n",
       "      <td>0.17710</td>\n",
       "    </tr>\n",
       "    <tr>\n",
       "      <th>ERC20_uniq_rec_token_name</th>\n",
       "      <td>ERC20_uniq_rec_token_name</td>\n",
       "      <td>float64</td>\n",
       "      <td>100</td>\n",
       "      <td>[0.0, 435.0]</td>\n",
       "      <td>0.17710</td>\n",
       "    </tr>\n",
       "    <tr>\n",
       "      <th>ERC20_uniq_sent_token_name</th>\n",
       "      <td>ERC20_uniq_sent_token_name</td>\n",
       "      <td>float64</td>\n",
       "      <td>58</td>\n",
       "      <td>[0.0, 125.0]</td>\n",
       "      <td>0.17710</td>\n",
       "    </tr>\n",
       "    <tr>\n",
       "      <th>ERC20_avg_val_sent_contract</th>\n",
       "      <td>ERC20_avg_val_sent_contract</td>\n",
       "      <td>float64</td>\n",
       "      <td>2</td>\n",
       "      <td>[nan, 0.0]</td>\n",
       "      <td>0.17710</td>\n",
       "    </tr>\n",
       "    <tr>\n",
       "      <th>ERC20_max_val_sent_contract</th>\n",
       "      <td>ERC20_max_val_sent_contract</td>\n",
       "      <td>float64</td>\n",
       "      <td>2</td>\n",
       "      <td>[nan, 0.0]</td>\n",
       "      <td>0.17710</td>\n",
       "    </tr>\n",
       "    <tr>\n",
       "      <th>ERC20_min_val_sent_contract</th>\n",
       "      <td>ERC20_min_val_sent_contract</td>\n",
       "      <td>float64</td>\n",
       "      <td>2</td>\n",
       "      <td>[nan, 0.0]</td>\n",
       "      <td>0.17710</td>\n",
       "    </tr>\n",
       "    <tr>\n",
       "      <th>ERC20_avg_val_sent</th>\n",
       "      <td>ERC20_avg_val_sent</td>\n",
       "      <td>float64</td>\n",
       "      <td>414</td>\n",
       "      <td>[0.0, 56147560976.0]</td>\n",
       "      <td>0.17710</td>\n",
       "    </tr>\n",
       "    <tr>\n",
       "      <th>ERC20_max_val_sent</th>\n",
       "      <td>ERC20_max_val_sent</td>\n",
       "      <td>float64</td>\n",
       "      <td>385</td>\n",
       "      <td>[0.0, 112000000000.0]</td>\n",
       "      <td>0.17710</td>\n",
       "    </tr>\n",
       "    <tr>\n",
       "      <th>ERC20_min_val_sent</th>\n",
       "      <td>ERC20_min_val_sent</td>\n",
       "      <td>float64</td>\n",
       "      <td>175</td>\n",
       "      <td>[0.0, 100000000.0]</td>\n",
       "      <td>0.17710</td>\n",
       "    </tr>\n",
       "    <tr>\n",
       "      <th>ERC20_total_Ether_received</th>\n",
       "      <td>ERC20_total_Ether_received</td>\n",
       "      <td>float64</td>\n",
       "      <td>1300</td>\n",
       "      <td>[0.0, 1000000000000.0]</td>\n",
       "      <td>0.17710</td>\n",
       "    </tr>\n",
       "    <tr>\n",
       "      <th>ERC20_avg_val_rec</th>\n",
       "      <td>ERC20_avg_val_rec</td>\n",
       "      <td>float64</td>\n",
       "      <td>1266</td>\n",
       "      <td>[0.0, 17241810275.0]</td>\n",
       "      <td>0.17710</td>\n",
       "    </tr>\n",
       "    <tr>\n",
       "      <th>ERC20_uniq_rec_contract_addr</th>\n",
       "      <td>ERC20_uniq_rec_contract_addr</td>\n",
       "      <td>float64</td>\n",
       "      <td>98</td>\n",
       "      <td>[0.0, 453.0]</td>\n",
       "      <td>0.17710</td>\n",
       "    </tr>\n",
       "    <tr>\n",
       "      <th>ERC20_min_val_rec</th>\n",
       "      <td>ERC20_min_val_rec</td>\n",
       "      <td>float64</td>\n",
       "      <td>538</td>\n",
       "      <td>[0.0, 990000.0]</td>\n",
       "      <td>0.17710</td>\n",
       "    </tr>\n",
       "    <tr>\n",
       "      <th>ERC20_uniq_sent_addr</th>\n",
       "      <td>ERC20_uniq_sent_addr</td>\n",
       "      <td>float64</td>\n",
       "      <td>62</td>\n",
       "      <td>[0.0, 1486.0]</td>\n",
       "      <td>0.17710</td>\n",
       "    </tr>\n",
       "    <tr>\n",
       "      <th>ERC20_uniq_rec_addr</th>\n",
       "      <td>ERC20_uniq_rec_addr</td>\n",
       "      <td>float64</td>\n",
       "      <td>105</td>\n",
       "      <td>[0.0, 1552.0]</td>\n",
       "      <td>0.17710</td>\n",
       "    </tr>\n",
       "    <tr>\n",
       "      <th>ERC20_uniq_sent_addr.1</th>\n",
       "      <td>ERC20_uniq_sent_addr.1</td>\n",
       "      <td>float64</td>\n",
       "      <td>3</td>\n",
       "      <td>[0.0, 1.0]</td>\n",
       "      <td>0.17710</td>\n",
       "    </tr>\n",
       "    <tr>\n",
       "      <th>ERC20_max_val_rec</th>\n",
       "      <td>ERC20_max_val_rec</td>\n",
       "      <td>float64</td>\n",
       "      <td>990</td>\n",
       "      <td>[0.0, 1000000000000.0]</td>\n",
       "      <td>0.17710</td>\n",
       "    </tr>\n",
       "    <tr>\n",
       "      <th>ERC20_avg_time_between_sent_tnx</th>\n",
       "      <td>ERC20_avg_time_between_sent_tnx</td>\n",
       "      <td>float64</td>\n",
       "      <td>2</td>\n",
       "      <td>[nan, 0.0]</td>\n",
       "      <td>0.17710</td>\n",
       "    </tr>\n",
       "    <tr>\n",
       "      <th>ERC20_avg_time_between_rec_tnx</th>\n",
       "      <td>ERC20_avg_time_between_rec_tnx</td>\n",
       "      <td>float64</td>\n",
       "      <td>2</td>\n",
       "      <td>[nan, 0.0]</td>\n",
       "      <td>0.17710</td>\n",
       "    </tr>\n",
       "    <tr>\n",
       "      <th>ERC20_avg_time_between_rec_2_tnx</th>\n",
       "      <td>ERC20_avg_time_between_rec_2_tnx</td>\n",
       "      <td>float64</td>\n",
       "      <td>2</td>\n",
       "      <td>[nan, 0.0]</td>\n",
       "      <td>0.17710</td>\n",
       "    </tr>\n",
       "    <tr>\n",
       "      <th>ERC20_avg_time_between_contract_tnx</th>\n",
       "      <td>ERC20_avg_time_between_contract_tnx</td>\n",
       "      <td>float64</td>\n",
       "      <td>2</td>\n",
       "      <td>[nan, 0.0]</td>\n",
       "      <td>0.17710</td>\n",
       "    </tr>\n",
       "    <tr>\n",
       "      <th>max_val_sent</th>\n",
       "      <td>max_val_sent</td>\n",
       "      <td>float64</td>\n",
       "      <td>2970</td>\n",
       "      <td>[0.0, 611102.0145]</td>\n",
       "      <td>0.00000</td>\n",
       "    </tr>\n",
       "    <tr>\n",
       "      <th>total_ether_balance</th>\n",
       "      <td>total_ether_balance</td>\n",
       "      <td>float64</td>\n",
       "      <td>2288</td>\n",
       "      <td>[-15605352.04, 14288636.26]</td>\n",
       "      <td>0.00000</td>\n",
       "    </tr>\n",
       "    <tr>\n",
       "      <th>total_ether_sent_contracts</th>\n",
       "      <td>total_ether_sent_contracts</td>\n",
       "      <td>object</td>\n",
       "      <td>1</td>\n",
       "      <td>[0]</td>\n",
       "      <td>0.00000</td>\n",
       "    </tr>\n",
       "    <tr>\n",
       "      <th>total_ether_received</th>\n",
       "      <td>total_ether_received</td>\n",
       "      <td>float64</td>\n",
       "      <td>2919</td>\n",
       "      <td>[0.0, 14288636.26]</td>\n",
       "      <td>0.00000</td>\n",
       "    </tr>\n",
       "    <tr>\n",
       "      <th>total_Ether_sent</th>\n",
       "      <td>total_Ether_sent</td>\n",
       "      <td>float64</td>\n",
       "      <td>2501</td>\n",
       "      <td>[0.0, 15605354.04]</td>\n",
       "      <td>0.00000</td>\n",
       "    </tr>\n",
       "    <tr>\n",
       "      <th>total_transactions_(including_tnx_to_create_contract)</th>\n",
       "      <td>total_transactions_(including_tnx_to_create_contract)</td>\n",
       "      <td>object</td>\n",
       "      <td>442</td>\n",
       "      <td>[0, 1, 2, 3, 4, 5, 6, 7, 8, 9, 10, 11, 12, 13, 14, 15, 16, 17, 18, 19, 20, 21, 22, 23, 24, 25, 26, 27, 28, 29, 30, 31, 32, 33, 34, 35, 36, 37, 38, 39, 40, 41, 42, 43, 44, 45, 46, 47, 48, 49, 50, 51, 52, 53, 54, 55, 56, 57, 58, 59, 60, 61, 62, 63, 64, 65, 66, 67, 68, 69, 70, 71, 72, 73, 74, 75, 76, 77, 78, 79, 80, 81, 82, 83, 84, 85, 87, 88, 89, 90, 91, 92, 93, 94, 95, 96, 97, 98, 100, 101, ...]</td>\n",
       "      <td>0.00000</td>\n",
       "    </tr>\n",
       "    <tr>\n",
       "      <th>avg_value_sent_to_contract</th>\n",
       "      <td>avg_value_sent_to_contract</td>\n",
       "      <td>object</td>\n",
       "      <td>1</td>\n",
       "      <td>[0]</td>\n",
       "      <td>0.00000</td>\n",
       "    </tr>\n",
       "    <tr>\n",
       "      <th>max_val_sent_to_contract</th>\n",
       "      <td>max_val_sent_to_contract</td>\n",
       "      <td>object</td>\n",
       "      <td>1</td>\n",
       "      <td>[0]</td>\n",
       "      <td>0.00000</td>\n",
       "    </tr>\n",
       "    <tr>\n",
       "      <th>min_value_sent_to_contract</th>\n",
       "      <td>min_value_sent_to_contract</td>\n",
       "      <td>object</td>\n",
       "      <td>1</td>\n",
       "      <td>[0]</td>\n",
       "      <td>0.00000</td>\n",
       "    </tr>\n",
       "    <tr>\n",
       "      <th>avg_val_sent</th>\n",
       "      <td>avg_val_sent</td>\n",
       "      <td>float64</td>\n",
       "      <td>2492</td>\n",
       "      <td>[0.0, 12000.0]</td>\n",
       "      <td>0.00000</td>\n",
       "    </tr>\n",
       "    <tr>\n",
       "      <th>Number_of_Created_Contracts</th>\n",
       "      <td>Number_of_Created_Contracts</td>\n",
       "      <td>object</td>\n",
       "      <td>12</td>\n",
       "      <td>[0, 1, 2, 3, 4, 5, 7, 19, 2096, 3900, 6453, 9995]</td>\n",
       "      <td>0.00000</td>\n",
       "    </tr>\n",
       "    <tr>\n",
       "      <th>avg_val_received</th>\n",
       "      <td>avg_val_received</td>\n",
       "      <td>float64</td>\n",
       "      <td>2945</td>\n",
       "      <td>[0.0, 283618.8316]</td>\n",
       "      <td>0.00000</td>\n",
       "    </tr>\n",
       "    <tr>\n",
       "      <th>max_value_received</th>\n",
       "      <td>max_value_received</td>\n",
       "      <td>float64</td>\n",
       "      <td>2646</td>\n",
       "      <td>[0.0, 800000.0]</td>\n",
       "      <td>0.00000</td>\n",
       "    </tr>\n",
       "    <tr>\n",
       "      <th>min_value_received</th>\n",
       "      <td>min_value_received</td>\n",
       "      <td>float64</td>\n",
       "      <td>1952</td>\n",
       "      <td>[0.0, 10000.0]</td>\n",
       "      <td>0.00000</td>\n",
       "    </tr>\n",
       "    <tr>\n",
       "      <th>Unique_Sent_To_Addresses</th>\n",
       "      <td>Unique_Sent_To_Addresses</td>\n",
       "      <td>object</td>\n",
       "      <td>170</td>\n",
       "      <td>[0, 1, 2, 3, 4, 5, 6, 7, 8, 9, 10, 11, 12, 13, 14, 15, 16, 17, 18, 19, 20, 21, 22, 23, 24, 25, 26, 27, 28, 29, 30, 31, 32, 33, 34, 35, 36, 37, 38, 39, 40, 41, 42, 43, 44, 45, 47, 48, 49, 50, 51, 52, 53, 54, 55, 56, 57, 58, 59, 60, 61, 62, 63, 64, 65, 66, 67, 68, 70, 72, 74, 75, 76, 78, 79, 80, 82, 85, 86, 87, 88, 89, 90, 91, 94, 95, 96, 97, 98, 99, 101, 102, 103, 104, 108, 109, 113, 117, 118, 119, ...]</td>\n",
       "      <td>0.00000</td>\n",
       "    </tr>\n",
       "    <tr>\n",
       "      <th>Unique_Received_From_Addresses</th>\n",
       "      <td>Unique_Received_From_Addresses</td>\n",
       "      <td>object</td>\n",
       "      <td>194</td>\n",
       "      <td>[0, 1, 2, 3, 4, 5, 6, 7, 8, 9, 10, 11, 12, 13, 14, 15, 16, 17, 18, 19, 20, 21, 22, 23, 24, 25, 26, 27, 28, 29, 30, 31, 32, 33, 34, 35, 36, 37, 38, 39, 40, 41, 42, 43, 44, 45, 46, 47, 48, 49, 50, 51, 53, 54, 55, 57, 58, 59, 60, 61, 62, 63, 64, 66, 68, 69, 70, 72, 73, 74, 76, 78, 79, 80, 81, 82, 83, 84, 87, 89, 90, 98, 99, 100, 101, 103, 104, 105, 108, 122, 124, 125, 130, 132, 133, 134, 136, 137, 142, 143, ...]</td>\n",
       "      <td>0.00000</td>\n",
       "    </tr>\n",
       "    <tr>\n",
       "      <th>Received_Tnx</th>\n",
       "      <td>Received_Tnx</td>\n",
       "      <td>object</td>\n",
       "      <td>367</td>\n",
       "      <td>[0, 1, 2, 3, 4, 5, 6, 7, 8, 9, 10, 11, 12, 13, 14, 15, 16, 17, 18, 19, 20, 21, 22, 23, 24, 25, 26, 27, 28, 29, 30, 31, 32, 33, 34, 35, 36, 37, 38, 39, 40, 41, 42, 43, 44, 45, 46, 47, 48, 49, 50, 51, 52, 53, 54, 55, 56, 57, 58, 59, 60, 61, 62, 63, 64, 65, 66, 67, 68, 69, 70, 71, 72, 73, 74, 75, 76, 77, 79, 80, 81, 82, 83, 84, 85, 86, 87, 88, 89, 90, 91, 92, 93, 94, 95, 96, 97, 98, 99, 100, ...]</td>\n",
       "      <td>0.00000</td>\n",
       "    </tr>\n",
       "    <tr>\n",
       "      <th>Sent_tnx</th>\n",
       "      <td>Sent_tnx</td>\n",
       "      <td>object</td>\n",
       "      <td>302</td>\n",
       "      <td>[0, 1, 2, 3, 4, 5, 6, 7, 8, 9, 10, 11, 12, 13, 14, 15, 16, 17, 18, 19, 20, 21, 22, 23, 24, 25, 26, 27, 28, 29, 30, 31, 32, 33, 34, 35, 36, 37, 38, 39, 40, 41, 42, 43, 44, 45, 46, 47, 48, 49, 50, 51, 52, 53, 54, 55, 56, 57, 58, 59, 60, 61, 62, 63, 64, 65, 66, 67, 68, 69, 70, 71, 72, 73, 74, 75, 76, 77, 79, 81, 82, 83, 84, 86, 87, 88, 89, 90, 91, 94, 95, 98, 99, 100, 101, 102, 104, 105, 106, 108, ...]</td>\n",
       "      <td>0.00000</td>\n",
       "    </tr>\n",
       "    <tr>\n",
       "      <th>Time_Diff_between_first_and_last_(Mins)</th>\n",
       "      <td>Time_Diff_between_first_and_last_(Mins)</td>\n",
       "      <td>float64</td>\n",
       "      <td>3542</td>\n",
       "      <td>[0.0, 1873350.33]</td>\n",
       "      <td>0.00000</td>\n",
       "    </tr>\n",
       "    <tr>\n",
       "      <th>min_val_sent</th>\n",
       "      <td>min_val_sent</td>\n",
       "      <td>float64</td>\n",
       "      <td>2269</td>\n",
       "      <td>[0.0, 12000.0]</td>\n",
       "      <td>0.00000</td>\n",
       "    </tr>\n",
       "    <tr>\n",
       "      <th>Avg_min_between_received_tnx</th>\n",
       "      <td>Avg_min_between_received_tnx</td>\n",
       "      <td>float64</td>\n",
       "      <td>2794</td>\n",
       "      <td>[0.0, 348288.3]</td>\n",
       "      <td>0.00000</td>\n",
       "    </tr>\n",
       "    <tr>\n",
       "      <th>Avg_min_between_sent_tnx</th>\n",
       "      <td>Avg_min_between_sent_tnx</td>\n",
       "      <td>float64</td>\n",
       "      <td>2073</td>\n",
       "      <td>[0.0, 377913.42]</td>\n",
       "      <td>0.00000</td>\n",
       "    </tr>\n",
       "  </tbody>\n",
       "</table>\n",
       "</div>"
      ],
      "text/plain": [
       "                                                                                                    Atributo  \\\n",
       "ERC20_most_rec_token_type                                                          ERC20_most_rec_token_type   \n",
       "ERC20_most_sent_token_type                                                        ERC20_most_sent_token_type   \n",
       "ERC20_total_ether_sent                                                                ERC20_total_ether_sent   \n",
       "Total_ERC20_tnxs                                                                            Total_ERC20_tnxs   \n",
       "ERC20_total_Ether_sent_contract                                              ERC20_total_Ether_sent_contract   \n",
       "ERC20_uniq_rec_token_name                                                          ERC20_uniq_rec_token_name   \n",
       "ERC20_uniq_sent_token_name                                                        ERC20_uniq_sent_token_name   \n",
       "ERC20_avg_val_sent_contract                                                      ERC20_avg_val_sent_contract   \n",
       "ERC20_max_val_sent_contract                                                      ERC20_max_val_sent_contract   \n",
       "ERC20_min_val_sent_contract                                                      ERC20_min_val_sent_contract   \n",
       "ERC20_avg_val_sent                                                                        ERC20_avg_val_sent   \n",
       "ERC20_max_val_sent                                                                        ERC20_max_val_sent   \n",
       "ERC20_min_val_sent                                                                        ERC20_min_val_sent   \n",
       "ERC20_total_Ether_received                                                        ERC20_total_Ether_received   \n",
       "ERC20_avg_val_rec                                                                          ERC20_avg_val_rec   \n",
       "ERC20_uniq_rec_contract_addr                                                    ERC20_uniq_rec_contract_addr   \n",
       "ERC20_min_val_rec                                                                          ERC20_min_val_rec   \n",
       "ERC20_uniq_sent_addr                                                                    ERC20_uniq_sent_addr   \n",
       "ERC20_uniq_rec_addr                                                                      ERC20_uniq_rec_addr   \n",
       "ERC20_uniq_sent_addr.1                                                                ERC20_uniq_sent_addr.1   \n",
       "ERC20_max_val_rec                                                                          ERC20_max_val_rec   \n",
       "ERC20_avg_time_between_sent_tnx                                              ERC20_avg_time_between_sent_tnx   \n",
       "ERC20_avg_time_between_rec_tnx                                                ERC20_avg_time_between_rec_tnx   \n",
       "ERC20_avg_time_between_rec_2_tnx                                            ERC20_avg_time_between_rec_2_tnx   \n",
       "ERC20_avg_time_between_contract_tnx                                      ERC20_avg_time_between_contract_tnx   \n",
       "max_val_sent                                                                                    max_val_sent   \n",
       "total_ether_balance                                                                      total_ether_balance   \n",
       "total_ether_sent_contracts                                                        total_ether_sent_contracts   \n",
       "total_ether_received                                                                    total_ether_received   \n",
       "total_Ether_sent                                                                            total_Ether_sent   \n",
       "total_transactions_(including_tnx_to_create_contract)  total_transactions_(including_tnx_to_create_contract)   \n",
       "avg_value_sent_to_contract                                                        avg_value_sent_to_contract   \n",
       "max_val_sent_to_contract                                                            max_val_sent_to_contract   \n",
       "min_value_sent_to_contract                                                        min_value_sent_to_contract   \n",
       "avg_val_sent                                                                                    avg_val_sent   \n",
       "Number_of_Created_Contracts                                                      Number_of_Created_Contracts   \n",
       "avg_val_received                                                                            avg_val_received   \n",
       "max_value_received                                                                        max_value_received   \n",
       "min_value_received                                                                        min_value_received   \n",
       "Unique_Sent_To_Addresses                                                            Unique_Sent_To_Addresses   \n",
       "Unique_Received_From_Addresses                                                Unique_Received_From_Addresses   \n",
       "Received_Tnx                                                                                    Received_Tnx   \n",
       "Sent_tnx                                                                                            Sent_tnx   \n",
       "Time_Diff_between_first_and_last_(Mins)                              Time_Diff_between_first_and_last_(Mins)   \n",
       "min_val_sent                                                                                    min_val_sent   \n",
       "Avg_min_between_received_tnx                                                    Avg_min_between_received_tnx   \n",
       "Avg_min_between_sent_tnx                                                            Avg_min_between_sent_tnx   \n",
       "\n",
       "                                                         DType  Cardinalidade  \\\n",
       "ERC20_most_rec_token_type                               object            280   \n",
       "ERC20_most_sent_token_type                              object            172   \n",
       "ERC20_total_ether_sent                                 float64            447   \n",
       "Total_ERC20_tnxs                                       float64            199   \n",
       "ERC20_total_Ether_sent_contract                        float64             22   \n",
       "ERC20_uniq_rec_token_name                              float64            100   \n",
       "ERC20_uniq_sent_token_name                             float64             58   \n",
       "ERC20_avg_val_sent_contract                            float64              2   \n",
       "ERC20_max_val_sent_contract                            float64              2   \n",
       "ERC20_min_val_sent_contract                            float64              2   \n",
       "ERC20_avg_val_sent                                     float64            414   \n",
       "ERC20_max_val_sent                                     float64            385   \n",
       "ERC20_min_val_sent                                     float64            175   \n",
       "ERC20_total_Ether_received                             float64           1300   \n",
       "ERC20_avg_val_rec                                      float64           1266   \n",
       "ERC20_uniq_rec_contract_addr                           float64             98   \n",
       "ERC20_min_val_rec                                      float64            538   \n",
       "ERC20_uniq_sent_addr                                   float64             62   \n",
       "ERC20_uniq_rec_addr                                    float64            105   \n",
       "ERC20_uniq_sent_addr.1                                 float64              3   \n",
       "ERC20_max_val_rec                                      float64            990   \n",
       "ERC20_avg_time_between_sent_tnx                        float64              2   \n",
       "ERC20_avg_time_between_rec_tnx                         float64              2   \n",
       "ERC20_avg_time_between_rec_2_tnx                       float64              2   \n",
       "ERC20_avg_time_between_contract_tnx                    float64              2   \n",
       "max_val_sent                                           float64           2970   \n",
       "total_ether_balance                                    float64           2288   \n",
       "total_ether_sent_contracts                              object              1   \n",
       "total_ether_received                                   float64           2919   \n",
       "total_Ether_sent                                       float64           2501   \n",
       "total_transactions_(including_tnx_to_create_contract)   object            442   \n",
       "avg_value_sent_to_contract                              object              1   \n",
       "max_val_sent_to_contract                                object              1   \n",
       "min_value_sent_to_contract                              object              1   \n",
       "avg_val_sent                                           float64           2492   \n",
       "Number_of_Created_Contracts                             object             12   \n",
       "avg_val_received                                       float64           2945   \n",
       "max_value_received                                     float64           2646   \n",
       "min_value_received                                     float64           1952   \n",
       "Unique_Sent_To_Addresses                                object            170   \n",
       "Unique_Received_From_Addresses                          object            194   \n",
       "Received_Tnx                                            object            367   \n",
       "Sent_tnx                                                object            302   \n",
       "Time_Diff_between_first_and_last_(Mins)                float64           3542   \n",
       "min_val_sent                                           float64           2269   \n",
       "Avg_min_between_received_tnx                           float64           2794   \n",
       "Avg_min_between_sent_tnx                               float64           2073   \n",
       "\n",
       "                                                                                                                                                                                                                                                                                                                                                                                                                                                                                                                                                                                                                                                                                                                                                                                                                                                                                                                                                                                                                                                                                                                                                          Valores  \\\n",
       "ERC20_most_rec_token_type                              [\u0001,  , 0, A2A(B) STeX Exchange Token, ABCC invite, AI Gaming Coin, AICRYPTO, AION, ARP, ATLANT, ATN, AdEx, Aeternity, AirCoin, Amber, Amplify, An Etheal Promo, AppCoins, Aragon, ArtisTurba, Asobicoin promo, Authoreon, Authorship, Azbit, BAT, BAX, BBN, BCShareS, BOX Token, BUZCOIN, Bancor, Beauty Coin, BeautyChain, BigBang Game Coin Token, BinaryCoin, BitAir, BitClave, Bitcoin EOS, BizCoin, Blockwell say NOTSAFU, Blupee, Bounty, Bulleon Promo Token, CANDY, CGW, CIChain, CRYPTOPUNKS, Cai Token, CargoX, Carrots, Cashaa, Celer Network, Centra, ChainLink Token, Civic, CoinBene Coin, CoinDash, Coineal Token, CosmoCoin, Crypterium, Crypto.com, Cryptonex, CyberMiles, Cybereits Token, DALECOIN, DATAcoin, DCORP, DEBITUM, DEW, DGD, DICE, DIGIBYTE, DMTS, Dai Stablecoin v1.0, Dao.Casino, Data, Decentraland, Delphy Token, Digital Developers Fund Token, Dragon, Dropil, EBCoin, ECHARGE, ELF, EMO tokens, EOS, ERC20, ESSENTIA, EasyEosToken, Edgeless, ElectrifyAsia, Electronic Energy Coin, Energem, EnjinCoin, Enumivo, Ethbits, EtherEcash, Ethereum, Ethos, Everest, ...]   \n",
       "ERC20_most_sent_token_type                                                                                             [\u0001,  , '', 0, 21Million, AION, ARBITRAGE, AVT, AdEx, Adshares, Aeternity, AirToken, Aragon, Authorship, BAT, BCShareS, BNB, BTOCoin, BUZCOIN, Bancor, BinaryCoin, BitDice, BizCoin, Blackmoon Crypto Token, Bounty0x, Brickblock, Bytom, CANDY, CRYPTOPUNKS, CarTaxi, Cashaa, ChainLink Token, CharterCoin, Civic, Cofoundit, CoinDash, Crypterium, Crypto.com, DADI, DATAcoin, DGD, DICE, Dao.Casino, Decent.Bet Token, Decentraland, Digital Developers Fund Token, Digix Gold Token, EDT, EOS, ERC20, ETHWrapper, Electronic Energy Coin, EnjinCoin, Ether, Ethos, Fair Token, Fantom Token, Feed, Fortecoin, Friendz Coin, FunFair, GECoin, GRID, Gemini dollar, Gnosis, Golem, Guppy, Happy Coin, Hawala, Humaniq, HuobiPoolToken, HuobiToken, Hydro, IBCCoin, ICO, ICON, ICONOMI, IDICE, IOSToken, IOT Chain, IUNGO, Identity Hub Token, KickCoin, KyberNetwork, Litecoin One, Livepeer Token, Loopring, Lucky Token, Lunyr, MCAP, MEX, Magna, Master Coin, Mavrodi, Merculet, Mithril Token, MobileGo, Monetha, NOAHCOIN, NaN, ...]   \n",
       "ERC20_total_ether_sent                                                                                                                                                                                                                                                                                                                                                                                                                                                                                                                                                                                                                                                                                                                                                                                                                                                                                                                                                                                                                                                                                                                      [0.0, 112000000000.0]   \n",
       "Total_ERC20_tnxs                                                                                                                                                                                                                                                                                                                                                                                                                                                                                                                                                                                                                                                                                                                                                                                                                                                                                                                                                                                                                                                                                                                                   [0.0, 10000.0]   \n",
       "ERC20_total_Ether_sent_contract                                                                                                                                                                                                                                                                                                                                                                                                                                                                                                                                                                                                                                                                                                                                                                                                                                                                                                                                                                                                                                                                                                                   [0.0, 416000.0]   \n",
       "ERC20_uniq_rec_token_name                                                                                                                                                                                                                                                                                                                                                                                                                                                                                                                                                                                                                                                                                                                                                                                                                                                                                                                                                                                                                                                                                                                            [0.0, 435.0]   \n",
       "ERC20_uniq_sent_token_name                                                                                                                                                                                                                                                                                                                                                                                                                                                                                                                                                                                                                                                                                                                                                                                                                                                                                                                                                                                                                                                                                                                           [0.0, 125.0]   \n",
       "ERC20_avg_val_sent_contract                                                                                                                                                                                                                                                                                                                                                                                                                                                                                                                                                                                                                                                                                                                                                                                                                                                                                                                                                                                                                                                                                                                            [nan, 0.0]   \n",
       "ERC20_max_val_sent_contract                                                                                                                                                                                                                                                                                                                                                                                                                                                                                                                                                                                                                                                                                                                                                                                                                                                                                                                                                                                                                                                                                                                            [nan, 0.0]   \n",
       "ERC20_min_val_sent_contract                                                                                                                                                                                                                                                                                                                                                                                                                                                                                                                                                                                                                                                                                                                                                                                                                                                                                                                                                                                                                                                                                                                            [nan, 0.0]   \n",
       "ERC20_avg_val_sent                                                                                                                                                                                                                                                                                                                                                                                                                                                                                                                                                                                                                                                                                                                                                                                                                                                                                                                                                                                                                                                                                                                           [0.0, 56147560976.0]   \n",
       "ERC20_max_val_sent                                                                                                                                                                                                                                                                                                                                                                                                                                                                                                                                                                                                                                                                                                                                                                                                                                                                                                                                                                                                                                                                                                                          [0.0, 112000000000.0]   \n",
       "ERC20_min_val_sent                                                                                                                                                                                                                                                                                                                                                                                                                                                                                                                                                                                                                                                                                                                                                                                                                                                                                                                                                                                                                                                                                                                             [0.0, 100000000.0]   \n",
       "ERC20_total_Ether_received                                                                                                                                                                                                                                                                                                                                                                                                                                                                                                                                                                                                                                                                                                                                                                                                                                                                                                                                                                                                                                                                                                                 [0.0, 1000000000000.0]   \n",
       "ERC20_avg_val_rec                                                                                                                                                                                                                                                                                                                                                                                                                                                                                                                                                                                                                                                                                                                                                                                                                                                                                                                                                                                                                                                                                                                            [0.0, 17241810275.0]   \n",
       "ERC20_uniq_rec_contract_addr                                                                                                                                                                                                                                                                                                                                                                                                                                                                                                                                                                                                                                                                                                                                                                                                                                                                                                                                                                                                                                                                                                                         [0.0, 453.0]   \n",
       "ERC20_min_val_rec                                                                                                                                                                                                                                                                                                                                                                                                                                                                                                                                                                                                                                                                                                                                                                                                                                                                                                                                                                                                                                                                                                                                 [0.0, 990000.0]   \n",
       "ERC20_uniq_sent_addr                                                                                                                                                                                                                                                                                                                                                                                                                                                                                                                                                                                                                                                                                                                                                                                                                                                                                                                                                                                                                                                                                                                                [0.0, 1486.0]   \n",
       "ERC20_uniq_rec_addr                                                                                                                                                                                                                                                                                                                                                                                                                                                                                                                                                                                                                                                                                                                                                                                                                                                                                                                                                                                                                                                                                                                                 [0.0, 1552.0]   \n",
       "ERC20_uniq_sent_addr.1                                                                                                                                                                                                                                                                                                                                                                                                                                                                                                                                                                                                                                                                                                                                                                                                                                                                                                                                                                                                                                                                                                                                 [0.0, 1.0]   \n",
       "ERC20_max_val_rec                                                                                                                                                                                                                                                                                                                                                                                                                                                                                                                                                                                                                                                                                                                                                                                                                                                                                                                                                                                                                                                                                                                          [0.0, 1000000000000.0]   \n",
       "ERC20_avg_time_between_sent_tnx                                                                                                                                                                                                                                                                                                                                                                                                                                                                                                                                                                                                                                                                                                                                                                                                                                                                                                                                                                                                                                                                                                                        [nan, 0.0]   \n",
       "ERC20_avg_time_between_rec_tnx                                                                                                                                                                                                                                                                                                                                                                                                                                                                                                                                                                                                                                                                                                                                                                                                                                                                                                                                                                                                                                                                                                                         [nan, 0.0]   \n",
       "ERC20_avg_time_between_rec_2_tnx                                                                                                                                                                                                                                                                                                                                                                                                                                                                                                                                                                                                                                                                                                                                                                                                                                                                                                                                                                                                                                                                                                                       [nan, 0.0]   \n",
       "ERC20_avg_time_between_contract_tnx                                                                                                                                                                                                                                                                                                                                                                                                                                                                                                                                                                                                                                                                                                                                                                                                                                                                                                                                                                                                                                                                                                                    [nan, 0.0]   \n",
       "max_val_sent                                                                                                                                                                                                                                                                                                                                                                                                                                                                                                                                                                                                                                                                                                                                                                                                                                                                                                                                                                                                                                                                                                                                   [0.0, 611102.0145]   \n",
       "total_ether_balance                                                                                                                                                                                                                                                                                                                                                                                                                                                                                                                                                                                                                                                                                                                                                                                                                                                                                                                                                                                                                                                                                                                   [-15605352.04, 14288636.26]   \n",
       "total_ether_sent_contracts                                                                                                                                                                                                                                                                                                                                                                                                                                                                                                                                                                                                                                                                                                                                                                                                                                                                                                                                                                                                                                                                                                                                    [0]   \n",
       "total_ether_received                                                                                                                                                                                                                                                                                                                                                                                                                                                                                                                                                                                                                                                                                                                                                                                                                                                                                                                                                                                                                                                                                                                           [0.0, 14288636.26]   \n",
       "total_Ether_sent                                                                                                                                                                                                                                                                                                                                                                                                                                                                                                                                                                                                                                                                                                                                                                                                                                                                                                                                                                                                                                                                                                                               [0.0, 15605354.04]   \n",
       "total_transactions_(including_tnx_to_create_contract)                                                                                                                                                                                                                                                                                                                                                                                                                                                                                                                                                                                                                                                                                               [0, 1, 2, 3, 4, 5, 6, 7, 8, 9, 10, 11, 12, 13, 14, 15, 16, 17, 18, 19, 20, 21, 22, 23, 24, 25, 26, 27, 28, 29, 30, 31, 32, 33, 34, 35, 36, 37, 38, 39, 40, 41, 42, 43, 44, 45, 46, 47, 48, 49, 50, 51, 52, 53, 54, 55, 56, 57, 58, 59, 60, 61, 62, 63, 64, 65, 66, 67, 68, 69, 70, 71, 72, 73, 74, 75, 76, 77, 78, 79, 80, 81, 82, 83, 84, 85, 87, 88, 89, 90, 91, 92, 93, 94, 95, 96, 97, 98, 100, 101, ...]   \n",
       "avg_value_sent_to_contract                                                                                                                                                                                                                                                                                                                                                                                                                                                                                                                                                                                                                                                                                                                                                                                                                                                                                                                                                                                                                                                                                                                                    [0]   \n",
       "max_val_sent_to_contract                                                                                                                                                                                                                                                                                                                                                                                                                                                                                                                                                                                                                                                                                                                                                                                                                                                                                                                                                                                                                                                                                                                                      [0]   \n",
       "min_value_sent_to_contract                                                                                                                                                                                                                                                                                                                                                                                                                                                                                                                                                                                                                                                                                                                                                                                                                                                                                                                                                                                                                                                                                                                                    [0]   \n",
       "avg_val_sent                                                                                                                                                                                                                                                                                                                                                                                                                                                                                                                                                                                                                                                                                                                                                                                                                                                                                                                                                                                                                                                                                                                                       [0.0, 12000.0]   \n",
       "Number_of_Created_Contracts                                                                                                                                                                                                                                                                                                                                                                                                                                                                                                                                                                                                                                                                                                                                                                                                                                                                                                                                                                                                                                                                                     [0, 1, 2, 3, 4, 5, 7, 19, 2096, 3900, 6453, 9995]   \n",
       "avg_val_received                                                                                                                                                                                                                                                                                                                                                                                                                                                                                                                                                                                                                                                                                                                                                                                                                                                                                                                                                                                                                                                                                                                               [0.0, 283618.8316]   \n",
       "max_value_received                                                                                                                                                                                                                                                                                                                                                                                                                                                                                                                                                                                                                                                                                                                                                                                                                                                                                                                                                                                                                                                                                                                                [0.0, 800000.0]   \n",
       "min_value_received                                                                                                                                                                                                                                                                                                                                                                                                                                                                                                                                                                                                                                                                                                                                                                                                                                                                                                                                                                                                                                                                                                                                 [0.0, 10000.0]   \n",
       "Unique_Sent_To_Addresses                                                                                                                                                                                                                                                                                                                                                                                                                                                                                                                                                                                                                                                                                                                    [0, 1, 2, 3, 4, 5, 6, 7, 8, 9, 10, 11, 12, 13, 14, 15, 16, 17, 18, 19, 20, 21, 22, 23, 24, 25, 26, 27, 28, 29, 30, 31, 32, 33, 34, 35, 36, 37, 38, 39, 40, 41, 42, 43, 44, 45, 47, 48, 49, 50, 51, 52, 53, 54, 55, 56, 57, 58, 59, 60, 61, 62, 63, 64, 65, 66, 67, 68, 70, 72, 74, 75, 76, 78, 79, 80, 82, 85, 86, 87, 88, 89, 90, 91, 94, 95, 96, 97, 98, 99, 101, 102, 103, 104, 108, 109, 113, 117, 118, 119, ...]   \n",
       "Unique_Received_From_Addresses                                                                                                                                                                                                                                                                                                                                                                                                                                                                                                                                                                                                                                                                                                       [0, 1, 2, 3, 4, 5, 6, 7, 8, 9, 10, 11, 12, 13, 14, 15, 16, 17, 18, 19, 20, 21, 22, 23, 24, 25, 26, 27, 28, 29, 30, 31, 32, 33, 34, 35, 36, 37, 38, 39, 40, 41, 42, 43, 44, 45, 46, 47, 48, 49, 50, 51, 53, 54, 55, 57, 58, 59, 60, 61, 62, 63, 64, 66, 68, 69, 70, 72, 73, 74, 76, 78, 79, 80, 81, 82, 83, 84, 87, 89, 90, 98, 99, 100, 101, 103, 104, 105, 108, 122, 124, 125, 130, 132, 133, 134, 136, 137, 142, 143, ...]   \n",
       "Received_Tnx                                                                                                                                                                                                                                                                                                                                                                                                                                                                                                                                                                                                                                                                                                                                         [0, 1, 2, 3, 4, 5, 6, 7, 8, 9, 10, 11, 12, 13, 14, 15, 16, 17, 18, 19, 20, 21, 22, 23, 24, 25, 26, 27, 28, 29, 30, 31, 32, 33, 34, 35, 36, 37, 38, 39, 40, 41, 42, 43, 44, 45, 46, 47, 48, 49, 50, 51, 52, 53, 54, 55, 56, 57, 58, 59, 60, 61, 62, 63, 64, 65, 66, 67, 68, 69, 70, 71, 72, 73, 74, 75, 76, 77, 79, 80, 81, 82, 83, 84, 85, 86, 87, 88, 89, 90, 91, 92, 93, 94, 95, 96, 97, 98, 99, 100, ...]   \n",
       "Sent_tnx                                                                                                                                                                                                                                                                                                                                                                                                                                                                                                                                                                                                                                                                                                                                       [0, 1, 2, 3, 4, 5, 6, 7, 8, 9, 10, 11, 12, 13, 14, 15, 16, 17, 18, 19, 20, 21, 22, 23, 24, 25, 26, 27, 28, 29, 30, 31, 32, 33, 34, 35, 36, 37, 38, 39, 40, 41, 42, 43, 44, 45, 46, 47, 48, 49, 50, 51, 52, 53, 54, 55, 56, 57, 58, 59, 60, 61, 62, 63, 64, 65, 66, 67, 68, 69, 70, 71, 72, 73, 74, 75, 76, 77, 79, 81, 82, 83, 84, 86, 87, 88, 89, 90, 91, 94, 95, 98, 99, 100, 101, 102, 104, 105, 106, 108, ...]   \n",
       "Time_Diff_between_first_and_last_(Mins)                                                                                                                                                                                                                                                                                                                                                                                                                                                                                                                                                                                                                                                                                                                                                                                                                                                                                                                                                                                                                                                                                                         [0.0, 1873350.33]   \n",
       "min_val_sent                                                                                                                                                                                                                                                                                                                                                                                                                                                                                                                                                                                                                                                                                                                                                                                                                                                                                                                                                                                                                                                                                                                                       [0.0, 12000.0]   \n",
       "Avg_min_between_received_tnx                                                                                                                                                                                                                                                                                                                                                                                                                                                                                                                                                                                                                                                                                                                                                                                                                                                                                                                                                                                                                                                                                                                      [0.0, 348288.3]   \n",
       "Avg_min_between_sent_tnx                                                                                                                                                                                                                                                                                                                                                                                                                                                                                                                                                                                                                                                                                                                                                                                                                                                                                                                                                                                                                                                                                                                         [0.0, 377913.42]   \n",
       "\n",
       "                                                       Proporção Nulos  \n",
       "ERC20_most_rec_token_type                                      0.17859  \n",
       "ERC20_most_sent_token_type                                     0.17731  \n",
       "ERC20_total_ether_sent                                         0.17710  \n",
       "Total_ERC20_tnxs                                               0.17710  \n",
       "ERC20_total_Ether_sent_contract                                0.17710  \n",
       "ERC20_uniq_rec_token_name                                      0.17710  \n",
       "ERC20_uniq_sent_token_name                                     0.17710  \n",
       "ERC20_avg_val_sent_contract                                    0.17710  \n",
       "ERC20_max_val_sent_contract                                    0.17710  \n",
       "ERC20_min_val_sent_contract                                    0.17710  \n",
       "ERC20_avg_val_sent                                             0.17710  \n",
       "ERC20_max_val_sent                                             0.17710  \n",
       "ERC20_min_val_sent                                             0.17710  \n",
       "ERC20_total_Ether_received                                     0.17710  \n",
       "ERC20_avg_val_rec                                              0.17710  \n",
       "ERC20_uniq_rec_contract_addr                                   0.17710  \n",
       "ERC20_min_val_rec                                              0.17710  \n",
       "ERC20_uniq_sent_addr                                           0.17710  \n",
       "ERC20_uniq_rec_addr                                            0.17710  \n",
       "ERC20_uniq_sent_addr.1                                         0.17710  \n",
       "ERC20_max_val_rec                                              0.17710  \n",
       "ERC20_avg_time_between_sent_tnx                                0.17710  \n",
       "ERC20_avg_time_between_rec_tnx                                 0.17710  \n",
       "ERC20_avg_time_between_rec_2_tnx                               0.17710  \n",
       "ERC20_avg_time_between_contract_tnx                            0.17710  \n",
       "max_val_sent                                                   0.00000  \n",
       "total_ether_balance                                            0.00000  \n",
       "total_ether_sent_contracts                                     0.00000  \n",
       "total_ether_received                                           0.00000  \n",
       "total_Ether_sent                                               0.00000  \n",
       "total_transactions_(including_tnx_to_create_contract)          0.00000  \n",
       "avg_value_sent_to_contract                                     0.00000  \n",
       "max_val_sent_to_contract                                       0.00000  \n",
       "min_value_sent_to_contract                                     0.00000  \n",
       "avg_val_sent                                                   0.00000  \n",
       "Number_of_Created_Contracts                                    0.00000  \n",
       "avg_val_received                                               0.00000  \n",
       "max_value_received                                             0.00000  \n",
       "min_value_received                                             0.00000  \n",
       "Unique_Sent_To_Addresses                                       0.00000  \n",
       "Unique_Received_From_Addresses                                 0.00000  \n",
       "Received_Tnx                                                   0.00000  \n",
       "Sent_tnx                                                       0.00000  \n",
       "Time_Diff_between_first_and_last_(Mins)                        0.00000  \n",
       "min_val_sent                                                   0.00000  \n",
       "Avg_min_between_received_tnx                                   0.00000  \n",
       "Avg_min_between_sent_tnx                                       0.00000  "
      ]
     },
     "execution_count": 10,
     "metadata": {},
     "output_type": "execute_result"
    }
   ],
   "source": [
    "df_cardinalidade = cardinalidade(\n",
    "    df_evaluation.drop(columns=['Address', 'FLAG'])\n",
    ").sort_values(by='Proporção Nulos', ascending=False)\n",
    "df_cardinalidade.sort_values(by=['Proporção Nulos'], ascending=False)"
   ]
  },
  {
   "cell_type": "code",
   "execution_count": 11,
   "id": "6d9302ba",
   "metadata": {
    "ExecuteTime": {
     "end_time": "2023-05-23T23:48:36.406480Z",
     "start_time": "2023-05-23T23:48:34.688666Z"
    }
   },
   "outputs": [
    {
     "ename": "PermissionError",
     "evalue": "[Errno 13] Permission denied: '../data/processed/cardinalidade_numerico.xlsx'",
     "output_type": "error",
     "traceback": [
      "\u001b[1;31m---------------------------------------------------------------------------\u001b[0m",
      "\u001b[1;31mPermissionError\u001b[0m                           Traceback (most recent call last)",
      "\u001b[1;32m~\\AppData\\Local\\Temp\\ipykernel_19100\\1443295424.py\u001b[0m in \u001b[0;36m<cell line: 6>\u001b[1;34m()\u001b[0m\n\u001b[0;32m      4\u001b[0m     \u001b[0mdf_evaluation\u001b[0m\u001b[1;33m.\u001b[0m\u001b[0mselect_dtypes\u001b[0m\u001b[1;33m(\u001b[0m\u001b[0mexclude\u001b[0m\u001b[1;33m=\u001b[0m\u001b[0mobject\u001b[0m\u001b[1;33m)\u001b[0m\u001b[1;33m\u001b[0m\u001b[1;33m\u001b[0m\u001b[0m\n\u001b[0;32m      5\u001b[0m ).sort_values(by='Proporção Nulos', ascending=False)\n\u001b[1;32m----> 6\u001b[1;33m \u001b[0mdf_cardinalidade\u001b[0m\u001b[1;33m.\u001b[0m\u001b[0msort_values\u001b[0m\u001b[1;33m(\u001b[0m\u001b[0mby\u001b[0m\u001b[1;33m=\u001b[0m\u001b[1;33m[\u001b[0m\u001b[1;34m'Proporção Nulos'\u001b[0m\u001b[1;33m]\u001b[0m\u001b[1;33m,\u001b[0m \u001b[0mascending\u001b[0m\u001b[1;33m=\u001b[0m\u001b[1;32mFalse\u001b[0m\u001b[1;33m)\u001b[0m\u001b[1;33m.\u001b[0m\u001b[0mto_excel\u001b[0m\u001b[1;33m(\u001b[0m\u001b[0mPROCESSED_FOLDER\u001b[0m \u001b[1;33m+\u001b[0m \u001b[1;34m'cardinalidade_numerico.xlsx'\u001b[0m\u001b[1;33m)\u001b[0m\u001b[1;33m\u001b[0m\u001b[1;33m\u001b[0m\u001b[0m\n\u001b[0m",
      "\u001b[1;32m~\\AppData\\Local\\Programs\\Python\\Python39\\lib\\site-packages\\pandas\\core\\generic.py\u001b[0m in \u001b[0;36mto_excel\u001b[1;34m(self, excel_writer, sheet_name, na_rep, float_format, columns, header, index, index_label, startrow, startcol, engine, merge_cells, encoding, inf_rep, verbose, freeze_panes, storage_options)\u001b[0m\n\u001b[0;32m   2343\u001b[0m             \u001b[0minf_rep\u001b[0m\u001b[1;33m=\u001b[0m\u001b[0minf_rep\u001b[0m\u001b[1;33m,\u001b[0m\u001b[1;33m\u001b[0m\u001b[1;33m\u001b[0m\u001b[0m\n\u001b[0;32m   2344\u001b[0m         )\n\u001b[1;32m-> 2345\u001b[1;33m         formatter.write(\n\u001b[0m\u001b[0;32m   2346\u001b[0m             \u001b[0mexcel_writer\u001b[0m\u001b[1;33m,\u001b[0m\u001b[1;33m\u001b[0m\u001b[1;33m\u001b[0m\u001b[0m\n\u001b[0;32m   2347\u001b[0m             \u001b[0msheet_name\u001b[0m\u001b[1;33m=\u001b[0m\u001b[0msheet_name\u001b[0m\u001b[1;33m,\u001b[0m\u001b[1;33m\u001b[0m\u001b[1;33m\u001b[0m\u001b[0m\n",
      "\u001b[1;32m~\\AppData\\Local\\Programs\\Python\\Python39\\lib\\site-packages\\pandas\\io\\formats\\excel.py\u001b[0m in \u001b[0;36mwrite\u001b[1;34m(self, writer, sheet_name, startrow, startcol, freeze_panes, engine, storage_options)\u001b[0m\n\u001b[0;32m    886\u001b[0m             \u001b[1;31m# error: Cannot instantiate abstract class 'ExcelWriter' with abstract\u001b[0m\u001b[1;33m\u001b[0m\u001b[1;33m\u001b[0m\u001b[0m\n\u001b[0;32m    887\u001b[0m             \u001b[1;31m# attributes 'engine', 'save', 'supported_extensions' and 'write_cells'\u001b[0m\u001b[1;33m\u001b[0m\u001b[1;33m\u001b[0m\u001b[0m\n\u001b[1;32m--> 888\u001b[1;33m             writer = ExcelWriter(  # type: ignore[abstract]\n\u001b[0m\u001b[0;32m    889\u001b[0m                 \u001b[0mwriter\u001b[0m\u001b[1;33m,\u001b[0m \u001b[0mengine\u001b[0m\u001b[1;33m=\u001b[0m\u001b[0mengine\u001b[0m\u001b[1;33m,\u001b[0m \u001b[0mstorage_options\u001b[0m\u001b[1;33m=\u001b[0m\u001b[0mstorage_options\u001b[0m\u001b[1;33m\u001b[0m\u001b[1;33m\u001b[0m\u001b[0m\n\u001b[0;32m    890\u001b[0m             )\n",
      "\u001b[1;32m~\\AppData\\Local\\Programs\\Python\\Python39\\lib\\site-packages\\pandas\\io\\excel\\_openpyxl.py\u001b[0m in \u001b[0;36m__init__\u001b[1;34m(self, path, engine, date_format, datetime_format, mode, storage_options, if_sheet_exists, engine_kwargs, **kwargs)\u001b[0m\n\u001b[0;32m     51\u001b[0m         \u001b[0mengine_kwargs\u001b[0m \u001b[1;33m=\u001b[0m \u001b[0mcombine_kwargs\u001b[0m\u001b[1;33m(\u001b[0m\u001b[0mengine_kwargs\u001b[0m\u001b[1;33m,\u001b[0m \u001b[0mkwargs\u001b[0m\u001b[1;33m)\u001b[0m\u001b[1;33m\u001b[0m\u001b[1;33m\u001b[0m\u001b[0m\n\u001b[0;32m     52\u001b[0m \u001b[1;33m\u001b[0m\u001b[0m\n\u001b[1;32m---> 53\u001b[1;33m         super().__init__(\n\u001b[0m\u001b[0;32m     54\u001b[0m             \u001b[0mpath\u001b[0m\u001b[1;33m,\u001b[0m\u001b[1;33m\u001b[0m\u001b[1;33m\u001b[0m\u001b[0m\n\u001b[0;32m     55\u001b[0m             \u001b[0mmode\u001b[0m\u001b[1;33m=\u001b[0m\u001b[0mmode\u001b[0m\u001b[1;33m,\u001b[0m\u001b[1;33m\u001b[0m\u001b[1;33m\u001b[0m\u001b[0m\n",
      "\u001b[1;32m~\\AppData\\Local\\Programs\\Python\\Python39\\lib\\site-packages\\pandas\\io\\excel\\_base.py\u001b[0m in \u001b[0;36m__init__\u001b[1;34m(self, path, engine, date_format, datetime_format, mode, storage_options, if_sheet_exists, engine_kwargs, **kwargs)\u001b[0m\n\u001b[0;32m   1104\u001b[0m         )\n\u001b[0;32m   1105\u001b[0m         \u001b[1;32mif\u001b[0m \u001b[1;32mnot\u001b[0m \u001b[0misinstance\u001b[0m\u001b[1;33m(\u001b[0m\u001b[0mpath\u001b[0m\u001b[1;33m,\u001b[0m \u001b[0mExcelWriter\u001b[0m\u001b[1;33m)\u001b[0m\u001b[1;33m:\u001b[0m\u001b[1;33m\u001b[0m\u001b[1;33m\u001b[0m\u001b[0m\n\u001b[1;32m-> 1106\u001b[1;33m             self.handles = get_handle(\n\u001b[0m\u001b[0;32m   1107\u001b[0m                 \u001b[0mpath\u001b[0m\u001b[1;33m,\u001b[0m \u001b[0mmode\u001b[0m\u001b[1;33m,\u001b[0m \u001b[0mstorage_options\u001b[0m\u001b[1;33m=\u001b[0m\u001b[0mstorage_options\u001b[0m\u001b[1;33m,\u001b[0m \u001b[0mis_text\u001b[0m\u001b[1;33m=\u001b[0m\u001b[1;32mFalse\u001b[0m\u001b[1;33m\u001b[0m\u001b[1;33m\u001b[0m\u001b[0m\n\u001b[0;32m   1108\u001b[0m             )\n",
      "\u001b[1;32m~\\AppData\\Local\\Programs\\Python\\Python39\\lib\\site-packages\\pandas\\io\\common.py\u001b[0m in \u001b[0;36mget_handle\u001b[1;34m(path_or_buf, mode, encoding, compression, memory_map, is_text, errors, storage_options)\u001b[0m\n\u001b[0;32m    793\u001b[0m         \u001b[1;32melse\u001b[0m\u001b[1;33m:\u001b[0m\u001b[1;33m\u001b[0m\u001b[1;33m\u001b[0m\u001b[0m\n\u001b[0;32m    794\u001b[0m             \u001b[1;31m# Binary mode\u001b[0m\u001b[1;33m\u001b[0m\u001b[1;33m\u001b[0m\u001b[0m\n\u001b[1;32m--> 795\u001b[1;33m             \u001b[0mhandle\u001b[0m \u001b[1;33m=\u001b[0m \u001b[0mopen\u001b[0m\u001b[1;33m(\u001b[0m\u001b[0mhandle\u001b[0m\u001b[1;33m,\u001b[0m \u001b[0mioargs\u001b[0m\u001b[1;33m.\u001b[0m\u001b[0mmode\u001b[0m\u001b[1;33m)\u001b[0m\u001b[1;33m\u001b[0m\u001b[1;33m\u001b[0m\u001b[0m\n\u001b[0m\u001b[0;32m    796\u001b[0m         \u001b[0mhandles\u001b[0m\u001b[1;33m.\u001b[0m\u001b[0mappend\u001b[0m\u001b[1;33m(\u001b[0m\u001b[0mhandle\u001b[0m\u001b[1;33m)\u001b[0m\u001b[1;33m\u001b[0m\u001b[1;33m\u001b[0m\u001b[0m\n\u001b[0;32m    797\u001b[0m \u001b[1;33m\u001b[0m\u001b[0m\n",
      "\u001b[1;31mPermissionError\u001b[0m: [Errno 13] Permission denied: '../data/processed/cardinalidade_numerico.xlsx'"
     ]
    }
   ],
   "source": [
    "# df_evaluation.drop(columns=['Address', 'FLAG'], inplace=True)\n",
    "\n",
    "df_cardinalidade = cardinalidade(\n",
    "    df_evaluation.select_dtypes(exclude=object)\n",
    ").sort_values(by='Proporção Nulos', ascending=False)\n",
    "df_cardinalidade.sort_values(by=['Proporção Nulos'], ascending=False).to_excel(PROCESSED_FOLDER + 'cardinalidade_numerico.xlsx')"
   ]
  },
  {
   "cell_type": "code",
   "execution_count": null,
   "id": "f3d00b06",
   "metadata": {
    "ExecuteTime": {
     "end_time": "2023-05-23T23:48:36.408490Z",
     "start_time": "2023-05-23T23:48:36.408490Z"
    }
   },
   "outputs": [],
   "source": [
    "# List of columns with cardinality equals to 1\n",
    "df_cardinalidade.loc[df_cardinalidade['Proporção Nulos']>0.1, 'Atributo'].values.tolist()\n",
    "\n",
    "lst_with_null = df_cardinalidade.loc[df_cardinalidade['Proporção Nulos']>0.1, 'Atributo'].values.tolist()"
   ]
  },
  {
   "cell_type": "code",
   "execution_count": null,
   "id": "194db760",
   "metadata": {
    "ExecuteTime": {
     "end_time": "2023-05-23T23:48:36.410512Z",
     "start_time": "2023-05-23T23:48:36.410512Z"
    }
   },
   "outputs": [],
   "source": [
    "lst_unitary_columns = df_cardinalidade[df_cardinalidade['Cardinalidade']==1].index.tolist()\n",
    "lst_unitary_columns"
   ]
  },
  {
   "cell_type": "code",
   "execution_count": null,
   "id": "1898c6b7",
   "metadata": {
    "ExecuteTime": {
     "end_time": "2023-05-23T23:48:36.412482Z",
     "start_time": "2023-05-23T23:48:36.412482Z"
    }
   },
   "outputs": [],
   "source": [
    "msno.matrix(df_raw[lst_with_null], fontsize=20, label_rotation=90, sparkline=False);"
   ]
  },
  {
   "cell_type": "markdown",
   "id": "7c64872f",
   "metadata": {},
   "source": [
    "## Checking columns that are equal"
   ]
  },
  {
   "cell_type": "code",
   "execution_count": null,
   "id": "0aac0934",
   "metadata": {
    "ExecuteTime": {
     "end_time": "2023-05-23T23:48:36.414503Z",
     "start_time": "2023-05-23T23:48:36.414503Z"
    }
   },
   "outputs": [],
   "source": [
    "check_for_equal_columns(df_evaluation)"
   ]
  },
  {
   "cell_type": "code",
   "execution_count": null,
   "id": "e4b8239d",
   "metadata": {
    "ExecuteTime": {
     "end_time": "2023-05-23T23:48:36.416483Z",
     "start_time": "2023-05-23T23:48:36.416483Z"
    }
   },
   "outputs": [],
   "source": [
    "lst_equal_columns = check_for_equal_columns(df_evaluation).index.tolist()\n",
    "lst_equal_columns_keep = check_for_equal_columns(df_evaluation).drop_duplicates(keep='last').index.values.tolist()\n",
    "\n",
    "for column in lst_equal_columns_keep:\n",
    "    lst_equal_columns.remove(column)\n",
    "\n",
    "lst_equal_columns"
   ]
  },
  {
   "cell_type": "markdown",
   "id": "16693712",
   "metadata": {},
   "source": [
    "## Categorical features"
   ]
  },
  {
   "cell_type": "code",
   "execution_count": null,
   "id": "642d3a9d",
   "metadata": {
    "ExecuteTime": {
     "end_time": "2023-05-23T23:48:36.417484Z",
     "start_time": "2023-05-23T23:48:36.417484Z"
    }
   },
   "outputs": [],
   "source": [
    "df_evaluation_categorical = df_evaluation.select_dtypes(include='object').drop(columns='Address')\n",
    "df_evaluation_categorical.head()"
   ]
  },
  {
   "cell_type": "markdown",
   "id": "3d4b6c36",
   "metadata": {},
   "source": [
    "### ERC20_most_sent_token_type"
   ]
  },
  {
   "cell_type": "code",
   "execution_count": null,
   "id": "4aed59d0",
   "metadata": {
    "ExecuteTime": {
     "end_time": "2023-05-23T23:48:36.419484Z",
     "start_time": "2023-05-23T23:48:36.419484Z"
    }
   },
   "outputs": [],
   "source": [
    "pd.DataFrame(\n",
    "    100*df_evaluation_categorical.loc[:, 'ERC20_most_sent_token_type'].value_counts()/df_evaluation_categorical.loc[:, 'ERC20_most_sent_token_type'].value_counts().sum()\n",
    ").to_excel(PROCESSED_FOLDER + 'teste.xlsx', engine='xlsxwriter')"
   ]
  },
  {
   "cell_type": "code",
   "execution_count": null,
   "id": "e1c36df2",
   "metadata": {
    "ExecuteTime": {
     "end_time": "2023-05-23T23:48:36.420484Z",
     "start_time": "2023-05-23T23:48:36.420484Z"
    }
   },
   "outputs": [],
   "source": [
    "(\n",
    "    100*df_evaluation_categorical.loc[:, 'ERC20_most_sent_token_type'].value_counts()/\n",
    "    df_evaluation_categorical.loc[:, 'ERC20_most_sent_token_type'].value_counts().sum()\n",
    ").head(10).plot(kind='barh');"
   ]
  },
  {
   "cell_type": "markdown",
   "id": "7c04f3fa",
   "metadata": {},
   "source": [
    "#### Replacing \" \" and \"0\" to \"no information\""
   ]
  },
  {
   "cell_type": "code",
   "execution_count": null,
   "id": "fe2af98a",
   "metadata": {
    "ExecuteTime": {
     "end_time": "2023-05-23T23:48:36.422483Z",
     "start_time": "2023-05-23T23:48:36.422483Z"
    },
    "scrolled": true
   },
   "outputs": [],
   "source": [
    "for column in ['ERC20_most_sent_token_type']:\n",
    "    df_evaluation_categorical.loc[df_evaluation_categorical[column].isnull(), column] = \"0\"\n",
    "    for category in [\" \", \"\", \"0\"]:\n",
    "        df_evaluation_categorical[column] = df_evaluation_categorical[column].str.strip()\n",
    "        df_evaluation_categorical[column].replace(category, \"no information\", inplace=True)\n",
    "\n",
    "pd.DataFrame(\n",
    "    100*df_evaluation_categorical.loc[:, column].value_counts()/df_evaluation_categorical.loc[:, column].value_counts().sum()\n",
    ").head(10).plot(kind='barh');"
   ]
  },
  {
   "cell_type": "markdown",
   "id": "235da5ff",
   "metadata": {},
   "source": [
    "### ERC20_most_rec_token_type"
   ]
  },
  {
   "cell_type": "code",
   "execution_count": null,
   "id": "204b3d99",
   "metadata": {
    "ExecuteTime": {
     "end_time": "2023-05-23T23:48:36.423483Z",
     "start_time": "2023-05-23T23:48:36.423483Z"
    },
    "scrolled": true
   },
   "outputs": [],
   "source": [
    "(\n",
    "    100*df_evaluation_categorical.loc[:, 'ERC20_most_rec_token_type'].value_counts()/\n",
    "    df_evaluation_categorical.loc[:, 'ERC20_most_rec_token_type'].value_counts().sum()\n",
    ").head(10).plot(kind='barh');"
   ]
  },
  {
   "cell_type": "code",
   "execution_count": null,
   "id": "c975ed08",
   "metadata": {
    "ExecuteTime": {
     "end_time": "2023-05-23T23:48:36.425483Z",
     "start_time": "2023-05-23T23:48:36.425483Z"
    }
   },
   "outputs": [],
   "source": [
    "pd.DataFrame(\n",
    "    100*df_evaluation_categorical.loc[:, 'ERC20_most_rec_token_type'].value_counts()/\\\n",
    "    df_evaluation_categorical.loc[:, 'ERC20_most_rec_token_type'].value_counts().sum()\n",
    ").to_excel(PROCESSED_FOLDER + 'ERC20_most_rec_token_type.xlsx', engine='xlsxwriter')"
   ]
  },
  {
   "cell_type": "markdown",
   "id": "69782e3d",
   "metadata": {},
   "source": [
    "#### Replacing \" \" and \"0\" to \"no information\""
   ]
  },
  {
   "cell_type": "code",
   "execution_count": null,
   "id": "34cf3f09",
   "metadata": {
    "ExecuteTime": {
     "end_time": "2023-05-23T23:48:36.427484Z",
     "start_time": "2023-05-23T23:48:36.427484Z"
    },
    "scrolled": true
   },
   "outputs": [],
   "source": [
    "for column in ['ERC20_most_rec_token_type']:\n",
    "    df_evaluation_categorical.loc[df_evaluation_categorical[column].isnull(), column] = \"0\"\n",
    "    for category in [\" \", \"\", \"0\"]:\n",
    "        df_evaluation_categorical[column] = df_evaluation_categorical[column].str.strip()\n",
    "        df_evaluation_categorical[column].replace(category, \"no information\", inplace=True)\n",
    "\n",
    "pd.DataFrame(\n",
    "    100*df_evaluation_categorical.loc[:, column].value_counts()/df_evaluation_categorical.loc[:, column].value_counts().sum()\n",
    ").head(10).plot(kind='barh');"
   ]
  },
  {
   "cell_type": "markdown",
   "id": "f1d127f6",
   "metadata": {},
   "source": [
    "## Auto EDA with ydata"
   ]
  },
  {
   "cell_type": "code",
   "execution_count": 12,
   "id": "9863ae55",
   "metadata": {
    "ExecuteTime": {
     "end_time": "2023-05-23T23:51:36.778721Z",
     "start_time": "2023-05-23T23:49:24.296006Z"
    }
   },
   "outputs": [
    {
     "data": {
      "application/vnd.jupyter.widget-view+json": {
       "model_id": "fe363ca5ea8448f0baa77952647c7c3b",
       "version_major": 2,
       "version_minor": 0
      },
      "text/plain": [
       "Summarize dataset:   0%|          | 0/5 [00:00<?, ?it/s]"
      ]
     },
     "metadata": {},
     "output_type": "display_data"
    },
    {
     "data": {
      "application/vnd.jupyter.widget-view+json": {
       "model_id": "a76ae4015baa433a9fb69b3a96f74dd8",
       "version_major": 2,
       "version_minor": 0
      },
      "text/plain": [
       "Generate report structure:   0%|          | 0/1 [00:00<?, ?it/s]"
      ]
     },
     "metadata": {},
     "output_type": "display_data"
    },
    {
     "data": {
      "application/vnd.jupyter.widget-view+json": {
       "model_id": "",
       "version_major": 2,
       "version_minor": 0
      },
      "text/plain": [
       "Render widgets:   0%|          | 0/1 [00:00<?, ?it/s]"
      ]
     },
     "metadata": {},
     "output_type": "display_data"
    },
    {
     "data": {
      "application/vnd.jupyter.widget-view+json": {
       "model_id": "b7e15ae03bc44565847dd6d8ec321734",
       "version_major": 2,
       "version_minor": 0
      },
      "text/plain": [
       "VBox(children=(Tab(children=(Tab(children=(GridBox(children=(VBox(children=(GridspecLayout(children=(HTML(valu…"
      ]
     },
     "metadata": {},
     "output_type": "display_data"
    }
   ],
   "source": [
    "profile = ProfileReport(\n",
    "    df_evaluation[lst_numeric_columns].sample(100, random_state=RANDOM_STATE),\n",
    "    title=\"Profiling Report\")\n",
    "\n",
    "# profile.to_file(REPORTS_FOLDER + 'data_analysis_report.html')\n",
    "profile.to_widgets()"
   ]
  },
  {
   "cell_type": "markdown",
   "id": "c5df5770",
   "metadata": {},
   "source": [
    "## Conclusion\n",
    "\n",
    "1. O *dataset* original continha 49 atributos. Excluindo-se as colunas de **Address** e **FLAG**, chegamos a 47. Há 5 colunas a mais do que o indicado no artigo. Isso deve-se:\n",
    "    - **ERC20_uniq_sent_addr.1** NÃO existe originalmente, talvez tenha havido alguma duplicação com transformação da coluna **ERC20_uniq_sent_addr**.\n",
    "    - **ERC20_avg_time_between_rec_2_tnx** NÃO existe originalmente, talvez tenha havido alguma duplicação sem transformação da coluna **ERC20_avg_time_between_rec_tnx**.\n",
    "    - **ERC20_avg_val_sent_contract** NÃO existe originalmente, talvez tenha havido alguma duplicação com transformação da coluna **ERC20_avg_val_sent**\n",
    "    - **ERC20_max_val_sent_contract** NÃO existe originalmente, talvez tenha havido alguma duplicação com transformação da coluna **ERC20_max_val_sent**\n",
    "    - **ERC20_min_val_sent_contract** NÃO existe originalmente, talvez tenha havido alguma duplicação com transformação da coluna **ERC20_min_val_sent**\n",
    "\n",
    "---\n",
    "\n",
    "2. Colunas com cardinalidade igual a 1. Quatro colunas possuem cardinalidade igual a 1 e, portanto, NÃO adicionam nenhuma informação para a classificação das carteiras:\n",
    "    - **'avg_value_sent_to_contract'**,\n",
    "    - **'max_val_sent_to_contract'**,\n",
    "    - **'total_ether_sent_contracts'**,\n",
    "    - **'min_value_sent_to_contract'**\n",
    "\n",
    "---\n",
    "\n",
    "3. Há 2 grupos de colunas que são idênticos e, portanto, podemos remover os idênticos e manter apenas um de cada grupo:\n",
    "    - **'min_value_sent_to_contract'**, **'max_val_sent_to_contract'**, **'avg_value_sent_to_contract'**, **'total_ether_sent_contracts'** -> Manteremos **'total_ether_sent_contracts'**\n",
    "    - **'ERC20_avg_time_between_sent_tnx'**, **'ERC20_avg_time_between_rec_tnx'**, **'ERC20_avg_time_between_contract_tnx'** -> Manteremos **'ERC20_avg_time_between_contract_tnx'**\n",
    "\n",
    "---\n",
    "\n",
    "4. Há dois atributos categóricos (**ERC20_most_sent_token_type** e **ERC20_most_rec_token_type**). Esses atributos passarão pelas seguintes tratamentos e transformações:\n",
    "    - Substituição de strings com espaços vazios (ex.: \"    \") e \"0\" para string \"no information\";\n",
    "    - *RareLabel*;\n",
    "    - *CountFrequencyEncoder*"
   ]
  },
  {
   "cell_type": "markdown",
   "id": "019fb62f",
   "metadata": {},
   "source": [
    "# Data cleaning\n",
    "\n",
    "1. Remove duplicated registries\n",
    "2. Remove duplicated columns\n",
    "3. Remove constant columns\n",
    "4. Remove equal columns\n",
    "5. Transforming categorical features"
   ]
  },
  {
   "cell_type": "markdown",
   "id": "eac0cca2",
   "metadata": {},
   "source": [
    "## Removing duplicated registries"
   ]
  },
  {
   "cell_type": "code",
   "execution_count": null,
   "id": "bfffcb73",
   "metadata": {
    "ExecuteTime": {
     "end_time": "2023-05-21T02:00:35.811154Z",
     "start_time": "2023-05-21T02:00:35.626150Z"
    }
   },
   "outputs": [],
   "source": [
    "df_cleaned = df_raw.copy()"
   ]
  },
  {
   "cell_type": "code",
   "execution_count": null,
   "id": "00eceedd",
   "metadata": {
    "ExecuteTime": {
     "end_time": "2023-05-17T20:44:16.176627Z",
     "start_time": "2023-05-17T20:44:15.972230Z"
    }
   },
   "outputs": [],
   "source": [
    "df_cleaned.drop_duplicates(inplace=True)\n",
    "\n",
    "print(f'Shape before data cleasing: {df_raw.shape}')\n",
    "print(f'After dropping duplicated rows: {df_cleaned.shape}')"
   ]
  },
  {
   "cell_type": "code",
   "execution_count": null,
   "id": "523fdea3",
   "metadata": {
    "ExecuteTime": {
     "end_time": "2023-05-21T02:08:24.584660Z",
     "start_time": "2023-05-21T02:08:21.882985Z"
    }
   },
   "outputs": [],
   "source": [
    "df_raw[df_raw['Address'].isin(\n",
    "    df_raw['Address'].value_counts()[df_raw['Address'].value_counts()>1].index.tolist()\n",
    ")].to_excel(PROCESSED_FOLDER + 'duplicated_accounts.xlsx')"
   ]
  },
  {
   "cell_type": "code",
   "execution_count": null,
   "id": "26c4016f",
   "metadata": {
    "ExecuteTime": {
     "end_time": "2023-05-21T02:02:27.961807Z",
     "start_time": "2023-05-21T02:02:27.785374Z"
    }
   },
   "outputs": [],
   "source": [
    "df_cleaned['Address'].value_counts().head(10)"
   ]
  },
  {
   "cell_type": "markdown",
   "id": "2a91206e",
   "metadata": {},
   "source": [
    "## Removing duplicated columns"
   ]
  },
  {
   "cell_type": "code",
   "execution_count": null,
   "id": "5dfcda38",
   "metadata": {
    "ExecuteTime": {
     "end_time": "2023-05-17T20:44:16.397863Z",
     "start_time": "2023-05-17T20:44:16.179637Z"
    }
   },
   "outputs": [],
   "source": [
    "df_cleaned.drop(columns=lst_duplicated_columns, inplace=True)\n",
    "\n",
    "print(f'Shape before data cleasing: {df_raw.shape}')\n",
    "print(f'After dropping duplicated columns: {df_cleaned.shape}')"
   ]
  },
  {
   "cell_type": "markdown",
   "id": "6ca2b7c9",
   "metadata": {},
   "source": [
    "## Removing constant columns"
   ]
  },
  {
   "cell_type": "code",
   "execution_count": null,
   "id": "796f616e",
   "metadata": {
    "ExecuteTime": {
     "end_time": "2023-05-17T20:44:16.602857Z",
     "start_time": "2023-05-17T20:44:16.398776Z"
    }
   },
   "outputs": [],
   "source": [
    "df_cleaned.drop(columns=lst_unitary_columns, inplace=True)\n",
    "\n",
    "print(f'Shape before data cleasing: {df_raw.shape}')\n",
    "print(f'After dropping duplicated columns: {df_cleaned.shape}')"
   ]
  },
  {
   "cell_type": "markdown",
   "id": "b3bab3c9",
   "metadata": {},
   "source": [
    "## Removing equal columns"
   ]
  },
  {
   "cell_type": "code",
   "execution_count": null,
   "id": "e64538de",
   "metadata": {
    "ExecuteTime": {
     "end_time": "2023-05-17T20:44:16.824323Z",
     "start_time": "2023-05-17T20:44:16.605447Z"
    }
   },
   "outputs": [],
   "source": [
    "for column in lst_equal_columns:\n",
    "    try:\n",
    "        df_cleaned.drop(columns=column, inplace=True)\n",
    "    except:\n",
    "        print(f\"'{column}' was exluded before.\")\n",
    "\n",
    "print(30*'-')\n",
    "print(f'Shape before data cleasing: {df_raw.shape}')\n",
    "print(f'After dropping duplicated columns: {df_cleaned.shape}')"
   ]
  },
  {
   "cell_type": "markdown",
   "id": "fbe7b1dd",
   "metadata": {},
   "source": [
    "## Pre-processing categorical features"
   ]
  },
  {
   "cell_type": "markdown",
   "id": "a13bf348",
   "metadata": {},
   "source": [
    "# Testing with pycaret\n",
    "\n",
    "## All features"
   ]
  },
  {
   "cell_type": "code",
   "execution_count": null,
   "id": "7082abe0",
   "metadata": {
    "ExecuteTime": {
     "end_time": "2023-05-17T20:44:17.217003Z",
     "start_time": "2023-05-17T20:44:17.029080Z"
    }
   },
   "outputs": [],
   "source": [
    "test_size = 0.15\n",
    "train_size = 1 - test_size\n",
    "\n",
    "lst_test_sample = df_cleaned.sample(int(test_size*len(df_cleaned)), random_state=RANDOM_STATE).index.values\n",
    "lst_train_sample = df_cleaned.drop(index=lst_test_sample).index.values\n",
    "\n",
    "print(f\"\"\"\n",
    "test_size: {test_size}\n",
    "test_sample (registries): {len(lst_test_sample)}\n",
    "\n",
    "train_size: {train_size}\n",
    "train_sample (registries): {len(lst_train_sample)}\n",
    "\"\"\")"
   ]
  },
  {
   "cell_type": "code",
   "execution_count": null,
   "id": "f5a2c5c0",
   "metadata": {
    "ExecuteTime": {
     "end_time": "2023-05-17T20:44:17.437779Z",
     "start_time": "2023-05-17T20:44:17.218071Z"
    }
   },
   "outputs": [],
   "source": [
    "df_cleaned.loc[lst_train_sample, :].head()"
   ]
  },
  {
   "cell_type": "code",
   "execution_count": null,
   "id": "a3cf875f",
   "metadata": {
    "ExecuteTime": {
     "end_time": "2023-05-17T20:44:32.362153Z",
     "start_time": "2023-05-17T20:44:17.440005Z"
    }
   },
   "outputs": [],
   "source": [
    "exp = ClassificationExperiment()\n",
    "exp.setup(\n",
    "    df_cleaned.loc[lst_train_sample, :].drop(columns=['Address']),\n",
    "    target='FLAG', train_size=train_size, session_id=RANDOM_STATE\n",
    ");"
   ]
  },
  {
   "cell_type": "code",
   "execution_count": null,
   "id": "776146d5",
   "metadata": {
    "ExecuteTime": {
     "end_time": "2023-05-17T20:46:43.031714Z",
     "start_time": "2023-05-17T20:44:32.365258Z"
    }
   },
   "outputs": [],
   "source": [
    "best = exp.compare_models()"
   ]
  },
  {
   "cell_type": "code",
   "execution_count": null,
   "id": "e75f1f22",
   "metadata": {
    "ExecuteTime": {
     "end_time": "2023-05-17T20:46:43.300304Z",
     "start_time": "2023-05-17T20:46:43.033748Z"
    }
   },
   "outputs": [],
   "source": [
    "best"
   ]
  },
  {
   "cell_type": "code",
   "execution_count": null,
   "id": "1908bc4e",
   "metadata": {
    "ExecuteTime": {
     "end_time": "2023-05-17T20:46:43.949704Z",
     "start_time": "2023-05-17T20:46:43.303418Z"
    },
    "scrolled": true
   },
   "outputs": [],
   "source": [
    "exp.plot_model(best, plot='feature')"
   ]
  },
  {
   "cell_type": "markdown",
   "id": "dd421796",
   "metadata": {},
   "source": [
    "## Only numerical features"
   ]
  },
  {
   "cell_type": "code",
   "execution_count": null,
   "id": "8a76e648",
   "metadata": {
    "ExecuteTime": {
     "end_time": "2023-05-16T00:27:54.210379Z",
     "start_time": "2023-05-16T00:27:53.686985Z"
    }
   },
   "outputs": [],
   "source": []
  },
  {
   "cell_type": "code",
   "execution_count": null,
   "id": "cea8ed6f",
   "metadata": {
    "ExecuteTime": {
     "end_time": "2023-05-17T20:46:45.877865Z",
     "start_time": "2023-05-17T20:46:43.951084Z"
    }
   },
   "outputs": [],
   "source": [
    "exp = ClassificationExperiment()\n",
    "exp.setup(\n",
    "    df_cleaned.loc[lst_train_sample, df_cleaned.select_dtypes(exclude=['object']).columns],\n",
    "    target='FLAG', train_size=train_size, session_id=RANDOM_STATE\n",
    ");"
   ]
  },
  {
   "cell_type": "code",
   "execution_count": null,
   "id": "c7e4d743",
   "metadata": {
    "ExecuteTime": {
     "end_time": "2023-05-17T20:48:21.809169Z",
     "start_time": "2023-05-17T20:46:45.879870Z"
    }
   },
   "outputs": [],
   "source": [
    "best = exp.compare_models()"
   ]
  },
  {
   "cell_type": "code",
   "execution_count": null,
   "id": "228d067a",
   "metadata": {
    "ExecuteTime": {
     "end_time": "2023-05-17T20:48:22.316414Z",
     "start_time": "2023-05-17T20:48:21.811091Z"
    },
    "scrolled": true
   },
   "outputs": [],
   "source": [
    "exp.plot_model(best, plot='feature')"
   ]
  },
  {
   "cell_type": "code",
   "execution_count": null,
   "id": "e923e21d",
   "metadata": {},
   "outputs": [],
   "source": []
  }
 ],
 "metadata": {
  "hide_input": false,
  "kernelspec": {
   "display_name": "Python 3 (ipykernel)",
   "language": "python",
   "name": "python3"
  },
  "language_info": {
   "codemirror_mode": {
    "name": "ipython",
    "version": 3
   },
   "file_extension": ".py",
   "mimetype": "text/x-python",
   "name": "python",
   "nbconvert_exporter": "python",
   "pygments_lexer": "ipython3",
   "version": "3.9.13"
  },
  "notify_time": "5",
  "toc": {
   "base_numbering": 1,
   "nav_menu": {},
   "number_sections": true,
   "sideBar": true,
   "skip_h1_title": false,
   "title_cell": "Table of Contents",
   "title_sidebar": "Contents",
   "toc_cell": false,
   "toc_position": {
    "height": "calc(100% - 180px)",
    "left": "10px",
    "top": "150px",
    "width": "348px"
   },
   "toc_section_display": true,
   "toc_window_display": true
  }
 },
 "nbformat": 4,
 "nbformat_minor": 5
}
