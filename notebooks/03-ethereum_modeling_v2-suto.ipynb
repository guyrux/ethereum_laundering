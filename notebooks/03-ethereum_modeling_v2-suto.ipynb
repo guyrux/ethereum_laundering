{
 "cells": [
  {
   "cell_type": "markdown",
   "id": "5dd4159b",
   "metadata": {},
   "source": [
    "# Modeling - ethereum - v2"
   ]
  },
  {
   "cell_type": "markdown",
   "id": "c1b05055",
   "metadata": {},
   "source": [
    "# Setup\n",
    "\n",
    "## Library import\n",
    "We import all the required Python libraries"
   ]
  },
  {
   "cell_type": "code",
   "execution_count": 1,
   "id": "228713f5",
   "metadata": {
    "ExecuteTime": {
     "end_time": "2023-05-28T02:24:10.817467Z",
     "start_time": "2023-05-28T02:24:01.632472Z"
    }
   },
   "outputs": [
    {
     "data": {
      "text/html": [
       "        <script type=\"text/javascript\">\n",
       "        window.PlotlyConfig = {MathJaxConfig: 'local'};\n",
       "        if (window.MathJax && window.MathJax.Hub && window.MathJax.Hub.Config) {window.MathJax.Hub.Config({SVG: {font: \"STIX-Web\"}});}\n",
       "        if (typeof require !== 'undefined') {\n",
       "        require.undef(\"plotly\");\n",
       "        requirejs.config({\n",
       "            paths: {\n",
       "                'plotly': ['https://cdn.plot.ly/plotly-2.18.2.min']\n",
       "            }\n",
       "        });\n",
       "        require(['plotly'], function(Plotly) {\n",
       "            window._Plotly = Plotly;\n",
       "        });\n",
       "        }\n",
       "        </script>\n",
       "        "
      ]
     },
     "metadata": {},
     "output_type": "display_data"
    }
   ],
   "source": [
    "import os\n",
    "\n",
    "# Data manipulation\n",
    "from feature_engine.encoding import RareLabelEncoder, CountFrequencyEncoder\n",
    "import pandas as pd\n",
    "from pandas.api.types import is_numeric_dtype\n",
    "import numpy as np\n",
    "\n",
    "# Visualizations\n",
    "import plotly\n",
    "import plotly.graph_objs as go\n",
    "import plotly.offline as ply\n",
    "plotly.offline.init_notebook_mode(connected=True)\n",
    "import matplotlib.pyplot as plt\n",
    "import seaborn as sns\n",
    "\n",
    "from lightgbm import LGBMClassifier\n",
    "import missingno as msno\n",
    "from pycaret.classification import ClassificationExperiment\n",
    "from sklearn.experimental import enable_halving_search_cv\n",
    "from sklearn.model_selection import (\n",
    "    train_test_split, RandomizedSearchCV, GridSearchCV, HalvingGridSearchCV, cross_validate\n",
    ")\n",
    "from sklearn.ensemble import RandomForestClassifier\n",
    "from sklearn.pipeline import Pipeline\n",
    "from ydata_profiling import ProfileReport\n",
    "from sklearn.preprocessing import StandardScaler\n",
    "from sklearn.decomposition import PCA\n",
    "from sklearn import set_config\n",
    "\n",
    "# Autoreload extension\n",
    "if 'autoreload' not in get_ipython().extension_manager.loaded:\n",
    "    %load_ext autoreload\n",
    "    \n",
    "%autoreload 2\n",
    "\n",
    "# Options for pandas\n",
    "set_config(transform_output = \"pandas\")\n",
    "pd.set_option('display.max_rows', None)\n",
    "pd.set_option('display.max_columns', None)\n",
    "pd.set_option('display.max_colwidth', None)\n",
    "pd.set_option('display.max_rows', 50)\n",
    "pd.set_option('display.float_format', '{:.5f}'.format)\n",
    "# pd.options.display.float_format = '{:.5f}'.format\n",
    "# pd.options.display.max_rows = 120\n",
    "\n",
    "sns.set_context(context='paper', font_scale=1, rc=None)\n",
    "sns.set_style(\"ticks\")\n",
    "sns.set_palette(sns.color_palette())"
   ]
  },
  {
   "cell_type": "markdown",
   "id": "85f479b4",
   "metadata": {},
   "source": [
    "## Local library import\n",
    "We import all the required local libraries libraries"
   ]
  },
  {
   "cell_type": "code",
   "execution_count": 2,
   "id": "2e633141",
   "metadata": {
    "ExecuteTime": {
     "end_time": "2023-05-28T02:24:11.105531Z",
     "start_time": "2023-05-28T02:24:10.821469Z"
    }
   },
   "outputs": [],
   "source": [
    "os.chdir('../')\n",
    "from src.utils.data_describe import breve_descricao, serie_nulos, cardinalidade, check_for_equal_columns\n",
    "os.chdir('./notebooks/')"
   ]
  },
  {
   "cell_type": "markdown",
   "id": "72c6a4cf",
   "metadata": {},
   "source": [
    "# Parameter definition\n",
    "We set all relevant parameters for our notebook. By convention, parameters are uppercase, while all the \n",
    "other variables follow Python's guidelines."
   ]
  },
  {
   "cell_type": "code",
   "execution_count": 3,
   "id": "908ea72a",
   "metadata": {
    "ExecuteTime": {
     "end_time": "2023-05-28T02:24:11.340533Z",
     "start_time": "2023-05-28T02:24:11.107521Z"
    }
   },
   "outputs": [],
   "source": [
    "RAW_FOLDER = '../data/raw/'\n",
    "INTERIM_FOLDER = '../data/interim/'\n",
    "PROCESSED_FOLDER = '../data/processed/'\n",
    "REPORTS_FOLDER = '../reports/'\n",
    "RANDOM_STATE = 42\n",
    "\n",
    "train_size = 0.15"
   ]
  },
  {
   "cell_type": "markdown",
   "id": "2f483714",
   "metadata": {},
   "source": [
    "# Experience 01 - Only numerical attributes\n",
    "\n",
    "## Data import"
   ]
  },
  {
   "cell_type": "code",
   "execution_count": 4,
   "id": "3f402cda",
   "metadata": {
    "ExecuteTime": {
     "end_time": "2023-05-28T02:24:11.700743Z",
     "start_time": "2023-05-28T02:24:11.342520Z"
    }
   },
   "outputs": [
    {
     "data": {
      "text/html": [
       "<div>\n",
       "<style scoped>\n",
       "    .dataframe tbody tr th:only-of-type {\n",
       "        vertical-align: middle;\n",
       "    }\n",
       "\n",
       "    .dataframe tbody tr th {\n",
       "        vertical-align: top;\n",
       "    }\n",
       "\n",
       "    .dataframe thead th {\n",
       "        text-align: right;\n",
       "    }\n",
       "</style>\n",
       "<table border=\"1\" class=\"dataframe\">\n",
       "  <thead>\n",
       "    <tr style=\"text-align: right;\">\n",
       "      <th></th>\n",
       "      <th>Address</th>\n",
       "      <th>FLAG</th>\n",
       "      <th>Avg_min_between_sent_tnx</th>\n",
       "      <th>Avg_min_between_received_tnx</th>\n",
       "      <th>Time_Diff_between_first_and_last_(Mins)</th>\n",
       "      <th>Sent_tnx</th>\n",
       "      <th>Received_Tnx</th>\n",
       "      <th>Number_of_Created_Contracts</th>\n",
       "      <th>Unique_Received_From_Addresses</th>\n",
       "      <th>Unique_Sent_To_Addresses</th>\n",
       "      <th>min_value_received</th>\n",
       "      <th>max_value_received</th>\n",
       "      <th>avg_val_received</th>\n",
       "      <th>min_val_sent</th>\n",
       "      <th>max_val_sent</th>\n",
       "      <th>avg_val_sent</th>\n",
       "      <th>total_transactions_(including_tnx_to_create_contract)</th>\n",
       "      <th>total_Ether_sent</th>\n",
       "      <th>total_ether_received</th>\n",
       "      <th>total_ether_balance</th>\n",
       "      <th>Total_ERC20_tnxs</th>\n",
       "      <th>ERC20_total_Ether_received</th>\n",
       "      <th>ERC20_total_ether_sent</th>\n",
       "      <th>ERC20_total_Ether_sent_contract</th>\n",
       "      <th>ERC20_uniq_sent_addr</th>\n",
       "      <th>ERC20_uniq_rec_addr</th>\n",
       "      <th>ERC20_uniq_rec_contract_addr</th>\n",
       "      <th>ERC20_avg_time_between_contract_tnx</th>\n",
       "      <th>ERC20_min_val_rec</th>\n",
       "      <th>ERC20_max_val_rec</th>\n",
       "      <th>ERC20_avg_val_rec</th>\n",
       "      <th>ERC20_min_val_sent</th>\n",
       "      <th>ERC20_max_val_sent</th>\n",
       "      <th>ERC20_avg_val_sent</th>\n",
       "      <th>ERC20_uniq_sent_token_name</th>\n",
       "      <th>ERC20_uniq_rec_token_name</th>\n",
       "    </tr>\n",
       "  </thead>\n",
       "  <tbody>\n",
       "    <tr>\n",
       "      <th>0</th>\n",
       "      <td>0x0020731604c882cf7bf8c444be97d17b19ea4316</td>\n",
       "      <td>1</td>\n",
       "      <td>1457.31000</td>\n",
       "      <td>34.12000</td>\n",
       "      <td>4815.43000</td>\n",
       "      <td>3</td>\n",
       "      <td>13</td>\n",
       "      <td>0</td>\n",
       "      <td>10</td>\n",
       "      <td>3</td>\n",
       "      <td>1.00000</td>\n",
       "      <td>2.50105</td>\n",
       "      <td>1.34844</td>\n",
       "      <td>1.00087</td>\n",
       "      <td>11.27787</td>\n",
       "      <td>5.84292</td>\n",
       "      <td>16</td>\n",
       "      <td>17.52875</td>\n",
       "      <td>17.52978</td>\n",
       "      <td>0.00104</td>\n",
       "      <td>NaN</td>\n",
       "      <td>NaN</td>\n",
       "      <td>NaN</td>\n",
       "      <td>NaN</td>\n",
       "      <td>NaN</td>\n",
       "      <td>NaN</td>\n",
       "      <td>NaN</td>\n",
       "      <td>NaN</td>\n",
       "      <td>NaN</td>\n",
       "      <td>NaN</td>\n",
       "      <td>NaN</td>\n",
       "      <td>NaN</td>\n",
       "      <td>NaN</td>\n",
       "      <td>NaN</td>\n",
       "      <td>NaN</td>\n",
       "      <td>NaN</td>\n",
       "    </tr>\n",
       "    <tr>\n",
       "      <th>1</th>\n",
       "      <td>0x002bf459dc58584d58886169ea0e80f3ca95ffaf</td>\n",
       "      <td>1</td>\n",
       "      <td>3976.50000</td>\n",
       "      <td>834.77000</td>\n",
       "      <td>9622.53000</td>\n",
       "      <td>2</td>\n",
       "      <td>2</td>\n",
       "      <td>0</td>\n",
       "      <td>1</td>\n",
       "      <td>2</td>\n",
       "      <td>0.58627</td>\n",
       "      <td>0.94751</td>\n",
       "      <td>0.76689</td>\n",
       "      <td>0.58541</td>\n",
       "      <td>0.94728</td>\n",
       "      <td>0.76635</td>\n",
       "      <td>4</td>\n",
       "      <td>1.53269</td>\n",
       "      <td>1.53378</td>\n",
       "      <td>0.00109</td>\n",
       "      <td>1.00000</td>\n",
       "      <td>1.33700</td>\n",
       "      <td>0.00000</td>\n",
       "      <td>0.00000</td>\n",
       "      <td>0.00000</td>\n",
       "      <td>1.00000</td>\n",
       "      <td>1.00000</td>\n",
       "      <td>0.00000</td>\n",
       "      <td>1.33700</td>\n",
       "      <td>1.33700</td>\n",
       "      <td>1.33700</td>\n",
       "      <td>0.00000</td>\n",
       "      <td>0.00000</td>\n",
       "      <td>0.00000</td>\n",
       "      <td>0.00000</td>\n",
       "      <td>1.00000</td>\n",
       "    </tr>\n",
       "    <tr>\n",
       "      <th>2</th>\n",
       "      <td>0x002f0c8119c16d310342d869ca8bf6ace34d9c39</td>\n",
       "      <td>1</td>\n",
       "      <td>112.90000</td>\n",
       "      <td>31.87000</td>\n",
       "      <td>321.42000</td>\n",
       "      <td>2</td>\n",
       "      <td>3</td>\n",
       "      <td>0</td>\n",
       "      <td>3</td>\n",
       "      <td>1</td>\n",
       "      <td>0.00102</td>\n",
       "      <td>0.81780</td>\n",
       "      <td>0.43961</td>\n",
       "      <td>0.50039</td>\n",
       "      <td>0.81751</td>\n",
       "      <td>0.65895</td>\n",
       "      <td>5</td>\n",
       "      <td>1.31790</td>\n",
       "      <td>1.31882</td>\n",
       "      <td>0.00092</td>\n",
       "      <td>1.00000</td>\n",
       "      <td>1.33700</td>\n",
       "      <td>0.00000</td>\n",
       "      <td>0.00000</td>\n",
       "      <td>0.00000</td>\n",
       "      <td>1.00000</td>\n",
       "      <td>1.00000</td>\n",
       "      <td>0.00000</td>\n",
       "      <td>1.33700</td>\n",
       "      <td>1.33700</td>\n",
       "      <td>1.33700</td>\n",
       "      <td>0.00000</td>\n",
       "      <td>0.00000</td>\n",
       "      <td>0.00000</td>\n",
       "      <td>0.00000</td>\n",
       "      <td>1.00000</td>\n",
       "    </tr>\n",
       "  </tbody>\n",
       "</table>\n",
       "</div>"
      ],
      "text/plain": [
       "                                      Address  FLAG  Avg_min_between_sent_tnx  \\\n",
       "0  0x0020731604c882cf7bf8c444be97d17b19ea4316     1                1457.31000   \n",
       "1  0x002bf459dc58584d58886169ea0e80f3ca95ffaf     1                3976.50000   \n",
       "2  0x002f0c8119c16d310342d869ca8bf6ace34d9c39     1                 112.90000   \n",
       "\n",
       "   Avg_min_between_received_tnx  Time_Diff_between_first_and_last_(Mins)  \\\n",
       "0                      34.12000                               4815.43000   \n",
       "1                     834.77000                               9622.53000   \n",
       "2                      31.87000                                321.42000   \n",
       "\n",
       "   Sent_tnx  Received_Tnx  Number_of_Created_Contracts  \\\n",
       "0         3            13                            0   \n",
       "1         2             2                            0   \n",
       "2         2             3                            0   \n",
       "\n",
       "   Unique_Received_From_Addresses  Unique_Sent_To_Addresses  \\\n",
       "0                              10                         3   \n",
       "1                               1                         2   \n",
       "2                               3                         1   \n",
       "\n",
       "   min_value_received  max_value_received  avg_val_received  min_val_sent  \\\n",
       "0             1.00000             2.50105           1.34844       1.00087   \n",
       "1             0.58627             0.94751           0.76689       0.58541   \n",
       "2             0.00102             0.81780           0.43961       0.50039   \n",
       "\n",
       "   max_val_sent  avg_val_sent  \\\n",
       "0      11.27787       5.84292   \n",
       "1       0.94728       0.76635   \n",
       "2       0.81751       0.65895   \n",
       "\n",
       "   total_transactions_(including_tnx_to_create_contract)  total_Ether_sent  \\\n",
       "0                                                     16          17.52875   \n",
       "1                                                      4           1.53269   \n",
       "2                                                      5           1.31790   \n",
       "\n",
       "   total_ether_received  total_ether_balance  Total_ERC20_tnxs  \\\n",
       "0              17.52978              0.00104               NaN   \n",
       "1               1.53378              0.00109           1.00000   \n",
       "2               1.31882              0.00092           1.00000   \n",
       "\n",
       "   ERC20_total_Ether_received  ERC20_total_ether_sent  \\\n",
       "0                         NaN                     NaN   \n",
       "1                     1.33700                 0.00000   \n",
       "2                     1.33700                 0.00000   \n",
       "\n",
       "   ERC20_total_Ether_sent_contract  ERC20_uniq_sent_addr  ERC20_uniq_rec_addr  \\\n",
       "0                              NaN                   NaN                  NaN   \n",
       "1                          0.00000               0.00000              1.00000   \n",
       "2                          0.00000               0.00000              1.00000   \n",
       "\n",
       "   ERC20_uniq_rec_contract_addr  ERC20_avg_time_between_contract_tnx  \\\n",
       "0                           NaN                                  NaN   \n",
       "1                       1.00000                              0.00000   \n",
       "2                       1.00000                              0.00000   \n",
       "\n",
       "   ERC20_min_val_rec  ERC20_max_val_rec  ERC20_avg_val_rec  \\\n",
       "0                NaN                NaN                NaN   \n",
       "1            1.33700            1.33700            1.33700   \n",
       "2            1.33700            1.33700            1.33700   \n",
       "\n",
       "   ERC20_min_val_sent  ERC20_max_val_sent  ERC20_avg_val_sent  \\\n",
       "0                 NaN                 NaN                 NaN   \n",
       "1             0.00000             0.00000             0.00000   \n",
       "2             0.00000             0.00000             0.00000   \n",
       "\n",
       "   ERC20_uniq_sent_token_name  ERC20_uniq_rec_token_name  \n",
       "0                         NaN                        NaN  \n",
       "1                     0.00000                    1.00000  \n",
       "2                     0.00000                    1.00000  "
      ]
     },
     "metadata": {},
     "output_type": "display_data"
    }
   ],
   "source": [
    "df_train_exp_01 = pd.read_parquet(INTERIM_FOLDER + 'df_train_exp_01.pqt')\n",
    "df_test_exp_01 = pd.read_parquet(INTERIM_FOLDER + 'df_test_exp_01.pqt')\n",
    "\n",
    "display(df_train_exp_01.head(3))"
   ]
  },
  {
   "cell_type": "markdown",
   "id": "27f7a8b1",
   "metadata": {},
   "source": [
    "# Light Gradient Boosting - Categorical features encoded by frequency\n",
    "\n",
    "## Data import"
   ]
  },
  {
   "cell_type": "code",
   "execution_count": 5,
   "id": "11cb3ec7",
   "metadata": {
    "ExecuteTime": {
     "end_time": "2023-05-28T02:24:11.968370Z",
     "start_time": "2023-05-28T02:24:11.702754Z"
    }
   },
   "outputs": [
    {
     "data": {
      "text/html": [
       "<div>\n",
       "<style scoped>\n",
       "    .dataframe tbody tr th:only-of-type {\n",
       "        vertical-align: middle;\n",
       "    }\n",
       "\n",
       "    .dataframe tbody tr th {\n",
       "        vertical-align: top;\n",
       "    }\n",
       "\n",
       "    .dataframe thead th {\n",
       "        text-align: right;\n",
       "    }\n",
       "</style>\n",
       "<table border=\"1\" class=\"dataframe\">\n",
       "  <thead>\n",
       "    <tr style=\"text-align: right;\">\n",
       "      <th></th>\n",
       "      <th>Avg_min_between_sent_tnx</th>\n",
       "      <th>Avg_min_between_received_tnx</th>\n",
       "      <th>Time_Diff_between_first_and_last_(Mins)</th>\n",
       "      <th>Sent_tnx</th>\n",
       "      <th>Received_Tnx</th>\n",
       "      <th>Number_of_Created_Contracts</th>\n",
       "      <th>Unique_Received_From_Addresses</th>\n",
       "      <th>Unique_Sent_To_Addresses</th>\n",
       "      <th>min_value_received</th>\n",
       "      <th>max_value_received</th>\n",
       "      <th>avg_val_received</th>\n",
       "      <th>min_val_sent</th>\n",
       "      <th>max_val_sent</th>\n",
       "      <th>avg_val_sent</th>\n",
       "      <th>total_transactions_(including_tnx_to_create_contract)</th>\n",
       "      <th>total_Ether_sent</th>\n",
       "      <th>total_ether_received</th>\n",
       "      <th>total_ether_balance</th>\n",
       "      <th>Total_ERC20_tnxs</th>\n",
       "      <th>ERC20_total_Ether_received</th>\n",
       "      <th>ERC20_total_ether_sent</th>\n",
       "      <th>ERC20_total_Ether_sent_contract</th>\n",
       "      <th>ERC20_uniq_sent_addr</th>\n",
       "      <th>ERC20_uniq_rec_addr</th>\n",
       "      <th>ERC20_uniq_rec_contract_addr</th>\n",
       "      <th>ERC20_avg_time_between_contract_tnx</th>\n",
       "      <th>ERC20_min_val_rec</th>\n",
       "      <th>ERC20_max_val_rec</th>\n",
       "      <th>ERC20_avg_val_rec</th>\n",
       "      <th>ERC20_min_val_sent</th>\n",
       "      <th>ERC20_max_val_sent</th>\n",
       "      <th>ERC20_avg_val_sent</th>\n",
       "      <th>ERC20_uniq_sent_token_name</th>\n",
       "      <th>ERC20_uniq_rec_token_name</th>\n",
       "      <th>ERC20_most_sent_token_type</th>\n",
       "      <th>ERC20_most_rec_token_type</th>\n",
       "    </tr>\n",
       "  </thead>\n",
       "  <tbody>\n",
       "    <tr>\n",
       "      <th>3691</th>\n",
       "      <td>67691.12000</td>\n",
       "      <td>0.00000</td>\n",
       "      <td>135382.23000</td>\n",
       "      <td>2</td>\n",
       "      <td>1</td>\n",
       "      <td>0</td>\n",
       "      <td>1</td>\n",
       "      <td>2</td>\n",
       "      <td>0.70927</td>\n",
       "      <td>0.70927</td>\n",
       "      <td>0.70927</td>\n",
       "      <td>0.10700</td>\n",
       "      <td>0.29554</td>\n",
       "      <td>0.20127</td>\n",
       "      <td>3</td>\n",
       "      <td>0.40254</td>\n",
       "      <td>0.70927</td>\n",
       "      <td>0.30673</td>\n",
       "      <td>7.00000</td>\n",
       "      <td>139.77633</td>\n",
       "      <td>0.00000</td>\n",
       "      <td>0.00000</td>\n",
       "      <td>0.00000</td>\n",
       "      <td>5.00000</td>\n",
       "      <td>7.00000</td>\n",
       "      <td>0.00000</td>\n",
       "      <td>0.00000</td>\n",
       "      <td>77.37208</td>\n",
       "      <td>19.96805</td>\n",
       "      <td>0.00000</td>\n",
       "      <td>0.00000</td>\n",
       "      <td>0.00000</td>\n",
       "      <td>0.00000</td>\n",
       "      <td>7.00000</td>\n",
       "      <td>0.89006</td>\n",
       "      <td>0.31874</td>\n",
       "    </tr>\n",
       "    <tr>\n",
       "      <th>152</th>\n",
       "      <td>23488.73000</td>\n",
       "      <td>33.36000</td>\n",
       "      <td>48178.53000</td>\n",
       "      <td>2</td>\n",
       "      <td>36</td>\n",
       "      <td>0</td>\n",
       "      <td>26</td>\n",
       "      <td>2</td>\n",
       "      <td>0.01038</td>\n",
       "      <td>9.99000</td>\n",
       "      <td>1.33005</td>\n",
       "      <td>0.07579</td>\n",
       "      <td>48.30435</td>\n",
       "      <td>24.19007</td>\n",
       "      <td>38</td>\n",
       "      <td>48.38014</td>\n",
       "      <td>47.88187</td>\n",
       "      <td>-0.49828</td>\n",
       "      <td>2.00000</td>\n",
       "      <td>1.33700</td>\n",
       "      <td>0.00000</td>\n",
       "      <td>0.00000</td>\n",
       "      <td>0.00000</td>\n",
       "      <td>2.00000</td>\n",
       "      <td>2.00000</td>\n",
       "      <td>0.00000</td>\n",
       "      <td>0.00000</td>\n",
       "      <td>1.33700</td>\n",
       "      <td>0.66850</td>\n",
       "      <td>0.00000</td>\n",
       "      <td>0.00000</td>\n",
       "      <td>0.00000</td>\n",
       "      <td>0.00000</td>\n",
       "      <td>2.00000</td>\n",
       "      <td>0.89006</td>\n",
       "      <td>0.16704</td>\n",
       "    </tr>\n",
       "    <tr>\n",
       "      <th>1175</th>\n",
       "      <td>0.00000</td>\n",
       "      <td>0.00000</td>\n",
       "      <td>0.00000</td>\n",
       "      <td>0</td>\n",
       "      <td>0</td>\n",
       "      <td>0</td>\n",
       "      <td>0</td>\n",
       "      <td>0</td>\n",
       "      <td>0.00000</td>\n",
       "      <td>0.00000</td>\n",
       "      <td>0.00000</td>\n",
       "      <td>0.00000</td>\n",
       "      <td>0.00000</td>\n",
       "      <td>0.00000</td>\n",
       "      <td>0</td>\n",
       "      <td>0.00000</td>\n",
       "      <td>0.00000</td>\n",
       "      <td>0.00000</td>\n",
       "      <td>1.00000</td>\n",
       "      <td>1.33700</td>\n",
       "      <td>0.00000</td>\n",
       "      <td>0.00000</td>\n",
       "      <td>0.00000</td>\n",
       "      <td>1.00000</td>\n",
       "      <td>1.00000</td>\n",
       "      <td>0.00000</td>\n",
       "      <td>0.00000</td>\n",
       "      <td>1.33700</td>\n",
       "      <td>0.86644</td>\n",
       "      <td>0.00000</td>\n",
       "      <td>0.00000</td>\n",
       "      <td>0.00000</td>\n",
       "      <td>0.00000</td>\n",
       "      <td>1.00000</td>\n",
       "      <td>0.89006</td>\n",
       "      <td>0.51421</td>\n",
       "    </tr>\n",
       "  </tbody>\n",
       "</table>\n",
       "</div>"
      ],
      "text/plain": [
       "      Avg_min_between_sent_tnx  Avg_min_between_received_tnx  \\\n",
       "3691               67691.12000                       0.00000   \n",
       "152                23488.73000                      33.36000   \n",
       "1175                   0.00000                       0.00000   \n",
       "\n",
       "      Time_Diff_between_first_and_last_(Mins)  Sent_tnx  Received_Tnx  \\\n",
       "3691                             135382.23000         2             1   \n",
       "152                               48178.53000         2            36   \n",
       "1175                                  0.00000         0             0   \n",
       "\n",
       "      Number_of_Created_Contracts  Unique_Received_From_Addresses  \\\n",
       "3691                            0                               1   \n",
       "152                             0                              26   \n",
       "1175                            0                               0   \n",
       "\n",
       "      Unique_Sent_To_Addresses  min_value_received  max_value_received  \\\n",
       "3691                         2             0.70927             0.70927   \n",
       "152                          2             0.01038             9.99000   \n",
       "1175                         0             0.00000             0.00000   \n",
       "\n",
       "      avg_val_received  min_val_sent  max_val_sent  avg_val_sent  \\\n",
       "3691           0.70927       0.10700       0.29554       0.20127   \n",
       "152            1.33005       0.07579      48.30435      24.19007   \n",
       "1175           0.00000       0.00000       0.00000       0.00000   \n",
       "\n",
       "      total_transactions_(including_tnx_to_create_contract)  total_Ether_sent  \\\n",
       "3691                                                      3           0.40254   \n",
       "152                                                      38          48.38014   \n",
       "1175                                                      0           0.00000   \n",
       "\n",
       "      total_ether_received  total_ether_balance  Total_ERC20_tnxs  \\\n",
       "3691               0.70927              0.30673           7.00000   \n",
       "152               47.88187             -0.49828           2.00000   \n",
       "1175               0.00000              0.00000           1.00000   \n",
       "\n",
       "      ERC20_total_Ether_received  ERC20_total_ether_sent  \\\n",
       "3691                   139.77633                 0.00000   \n",
       "152                      1.33700                 0.00000   \n",
       "1175                     1.33700                 0.00000   \n",
       "\n",
       "      ERC20_total_Ether_sent_contract  ERC20_uniq_sent_addr  \\\n",
       "3691                          0.00000               0.00000   \n",
       "152                           0.00000               0.00000   \n",
       "1175                          0.00000               0.00000   \n",
       "\n",
       "      ERC20_uniq_rec_addr  ERC20_uniq_rec_contract_addr  \\\n",
       "3691              5.00000                       7.00000   \n",
       "152               2.00000                       2.00000   \n",
       "1175              1.00000                       1.00000   \n",
       "\n",
       "      ERC20_avg_time_between_contract_tnx  ERC20_min_val_rec  \\\n",
       "3691                              0.00000            0.00000   \n",
       "152                               0.00000            0.00000   \n",
       "1175                              0.00000            0.00000   \n",
       "\n",
       "      ERC20_max_val_rec  ERC20_avg_val_rec  ERC20_min_val_sent  \\\n",
       "3691           77.37208           19.96805             0.00000   \n",
       "152             1.33700            0.66850             0.00000   \n",
       "1175            1.33700            0.86644             0.00000   \n",
       "\n",
       "      ERC20_max_val_sent  ERC20_avg_val_sent  ERC20_uniq_sent_token_name  \\\n",
       "3691             0.00000             0.00000                     0.00000   \n",
       "152              0.00000             0.00000                     0.00000   \n",
       "1175             0.00000             0.00000                     0.00000   \n",
       "\n",
       "      ERC20_uniq_rec_token_name  ERC20_most_sent_token_type  \\\n",
       "3691                    7.00000                     0.89006   \n",
       "152                     2.00000                     0.89006   \n",
       "1175                    1.00000                     0.89006   \n",
       "\n",
       "      ERC20_most_rec_token_type  \n",
       "3691                    0.31874  \n",
       "152                     0.16704  \n",
       "1175                    0.51421  "
      ]
     },
     "metadata": {},
     "output_type": "display_data"
    }
   ],
   "source": [
    "df_raw = pd.read_parquet(INTERIM_FOLDER + 'ethereum_complete.pqt')\n",
    "\n",
    "df_train_exp_02 = pd.read_parquet(INTERIM_FOLDER + 'df_cleaned_train_exp_02_transformed.pqt')\n",
    "df_test_exp_02 = pd.read_parquet(INTERIM_FOLDER + 'df_cleaned_test_exp_02_transformed.pqt')\n",
    "\n",
    "X_train_exp_02 = df_train_exp_02.drop(columns=['FLAG'])\n",
    "y_train_exp_02 = df_train_exp_02[['FLAG']]\n",
    "\n",
    "X_test_exp_02 = df_test_exp_02.drop(columns=['FLAG'])\n",
    "y_test_exp_02 = df_test_exp_02[['FLAG']]\n",
    "\n",
    "display(X_train_exp_02.head(3))"
   ]
  },
  {
   "cell_type": "markdown",
   "id": "35d98bfc",
   "metadata": {},
   "source": [
    "## Random search"
   ]
  },
  {
   "cell_type": "code",
   "execution_count": 6,
   "id": "08af5d4a",
   "metadata": {
    "ExecuteTime": {
     "end_time": "2023-05-28T02:28:20.564484Z",
     "start_time": "2023-05-28T02:24:11.970370Z"
    }
   },
   "outputs": [
    {
     "data": {
      "text/plain": [
       "{'num_leaves': 31, 'n_estimators': 500, 'max_depth': 20, 'learning_rate': 0.05}"
      ]
     },
     "execution_count": 6,
     "metadata": {},
     "output_type": "execute_result"
    }
   ],
   "source": [
    "classifier_lgbm = LGBMClassifier(\n",
    "    random_state=RANDOM_STATE, n_jobs=-1, silent = 'warn', objective = 'binary', importance_type = 'split',\n",
    ")\n",
    "\n",
    "#     boosting_type = ['gbdt', 'dart', 'rf'],\n",
    "dct_params = dict(\n",
    "    num_leaves = [int(31*.75), 31, int(31*1.25)],\n",
    "    max_depth = np.arange(4, 36, 4).tolist(),\n",
    "    learning_rate = [0.01, 0.05, 0.1],\n",
    "    n_estimators = np.arange(50, 600, 150).tolist(),\n",
    ")\n",
    "\n",
    "\n",
    "# params = dict(\n",
    "#     n_estimators=np.arange(50, 600, 150).tolist(),\n",
    "#     criterion=['gini', 'entropy', 'log_loss'],\n",
    "#     max_depth=np.arange(4, 36, 4).tolist(),\n",
    "#     max_features=['sqrt', 'log2'],\n",
    "#     ccp_alpha=np.arange(0, 0.035, 0.005).tolist(),\n",
    "# )\n",
    "\n",
    "rscv = RandomizedSearchCV(\n",
    "    classifier_lgbm, dct_params, error_score='raise', random_state=RANDOM_STATE, n_iter=100,\n",
    "    return_train_score=True, scoring='roc_auc', cv=10\n",
    ")\n",
    "\n",
    "search = rscv.fit(X_train_exp_02, y_train_exp_02)\n",
    "\n",
    "best_rscv = search.best_params_\n",
    "best_rscv"
   ]
  },
  {
   "cell_type": "markdown",
   "id": "6bf61c1c",
   "metadata": {},
   "source": [
    "## Grid search"
   ]
  },
  {
   "cell_type": "code",
   "execution_count": 24,
   "id": "47fae3fa",
   "metadata": {
    "ExecuteTime": {
     "end_time": "2023-05-28T02:44:39.483343Z",
     "start_time": "2023-05-28T02:44:39.251341Z"
    }
   },
   "outputs": [
    {
     "data": {
      "text/plain": [
       "{'max_depth': [18, 19, 20, 21, 22],\n",
       " 'num_leaves': [29, 31, 33],\n",
       " 'learning_rate': [0.025, 0.05]}"
      ]
     },
     "metadata": {},
     "output_type": "display_data"
    }
   ],
   "source": [
    "classifier_lgbm = LGBMClassifier(\n",
    "    random_state=RANDOM_STATE, n_jobs=-1, silent = 'warn', objective = 'binary', importance_type = 'split',\n",
    ")\n",
    "\n",
    "dct_params = dict(\n",
    "    max_depth=[18, 19, 20, 21, 22],\n",
    "    num_leaves=[29, 31, 33],\n",
    "    learning_rate=[0.025, 0.05]\n",
    ")\n",
    "\n",
    "display(dct_params)"
   ]
  },
  {
   "cell_type": "code",
   "execution_count": 27,
   "id": "21812b59",
   "metadata": {
    "ExecuteTime": {
     "end_time": "2023-05-28T02:48:55.373836Z",
     "start_time": "2023-05-28T02:48:40.256829Z"
    }
   },
   "outputs": [
    {
     "data": {
      "text/plain": [
       "{'learning_rate': 0.05, 'max_depth': 18, 'num_leaves': 29}"
      ]
     },
     "execution_count": 27,
     "metadata": {},
     "output_type": "execute_result"
    }
   ],
   "source": [
    "gscv = GridSearchCV(\n",
    "    classifier_lgbm, dct_params, error_score='raise',\n",
    "    return_train_score=True, scoring='roc_auc', cv=10, n_jobs=-1\n",
    ")\n",
    "\n",
    "grid_search = gscv.fit(X_train_exp_02, y_train_exp_02)\n",
    "best_gscv = grid_search.best_params_\n",
    "best_gscv"
   ]
  },
  {
   "cell_type": "markdown",
   "id": "260be88e",
   "metadata": {},
   "source": [
    "## AUC vs n_estimators vs depth - ESTOU NESSE PONTO\n",
    "\n",
    "- 10-fold cross validation"
   ]
  },
  {
   "cell_type": "code",
   "execution_count": 26,
   "id": "2a78c90f",
   "metadata": {
    "ExecuteTime": {
     "end_time": "2023-05-28T02:46:59.011531Z",
     "start_time": "2023-05-28T02:46:58.777506Z"
    }
   },
   "outputs": [],
   "source": [
    "X_exp_02 = pd.concat([X_train_exp_02, X_test_exp_02], axis=0)\n",
    "y_exp_02 = pd.concat([y_train_exp_02, y_test_exp_02], axis=0)"
   ]
  },
  {
   "cell_type": "code",
   "execution_count": 29,
   "id": "8425c3a3",
   "metadata": {
    "ExecuteTime": {
     "end_time": "2023-05-28T02:58:37.874407Z",
     "start_time": "2023-05-28T02:58:37.614712Z"
    }
   },
   "outputs": [],
   "source": [
    "best_params = dict(\n",
    "    random_state=RANDOM_STATE, n_jobs=-1, silent='warn', objective='binary', importance_type='split',\n",
    "    learning_rate=0.05, num_leaves=29\n",
    ")"
   ]
  },
  {
   "cell_type": "code",
   "execution_count": 30,
   "id": "6ab5b5da",
   "metadata": {
    "ExecuteTime": {
     "end_time": "2023-05-28T03:08:23.351216Z",
     "start_time": "2023-05-28T02:58:51.702529Z"
    }
   },
   "outputs": [
    {
     "data": {
      "text/html": [
       "<div>\n",
       "<style scoped>\n",
       "    .dataframe tbody tr th:only-of-type {\n",
       "        vertical-align: middle;\n",
       "    }\n",
       "\n",
       "    .dataframe tbody tr th {\n",
       "        vertical-align: top;\n",
       "    }\n",
       "\n",
       "    .dataframe thead th {\n",
       "        text-align: right;\n",
       "    }\n",
       "</style>\n",
       "<table border=\"1\" class=\"dataframe\">\n",
       "  <thead>\n",
       "    <tr style=\"text-align: right;\">\n",
       "      <th></th>\n",
       "      <th>n_estimator</th>\n",
       "      <th>depth</th>\n",
       "      <th>test_score_mean</th>\n",
       "      <th>test_score_std</th>\n",
       "      <th>train_score_mean</th>\n",
       "      <th>train_score_std</th>\n",
       "    </tr>\n",
       "  </thead>\n",
       "  <tbody>\n",
       "    <tr>\n",
       "      <th>100_3</th>\n",
       "      <td>100</td>\n",
       "      <td>3</td>\n",
       "      <td>0.99786</td>\n",
       "      <td>0.00090</td>\n",
       "      <td>0.99879</td>\n",
       "      <td>0.00006</td>\n",
       "    </tr>\n",
       "    <tr>\n",
       "      <th>100_6</th>\n",
       "      <td>100</td>\n",
       "      <td>6</td>\n",
       "      <td>0.99842</td>\n",
       "      <td>0.00066</td>\n",
       "      <td>0.99990</td>\n",
       "      <td>0.00002</td>\n",
       "    </tr>\n",
       "    <tr>\n",
       "      <th>100_9</th>\n",
       "      <td>100</td>\n",
       "      <td>9</td>\n",
       "      <td>0.99861</td>\n",
       "      <td>0.00058</td>\n",
       "      <td>1.00000</td>\n",
       "      <td>0.00000</td>\n",
       "    </tr>\n",
       "    <tr>\n",
       "      <th>100_12</th>\n",
       "      <td>100</td>\n",
       "      <td>12</td>\n",
       "      <td>0.99858</td>\n",
       "      <td>0.00059</td>\n",
       "      <td>1.00000</td>\n",
       "      <td>0.00000</td>\n",
       "    </tr>\n",
       "    <tr>\n",
       "      <th>100_15</th>\n",
       "      <td>100</td>\n",
       "      <td>15</td>\n",
       "      <td>0.99859</td>\n",
       "      <td>0.00056</td>\n",
       "      <td>1.00000</td>\n",
       "      <td>0.00000</td>\n",
       "    </tr>\n",
       "  </tbody>\n",
       "</table>\n",
       "</div>"
      ],
      "text/plain": [
       "        n_estimator  depth  test_score_mean  test_score_std  train_score_mean  \\\n",
       "100_3           100      3          0.99786         0.00090           0.99879   \n",
       "100_6           100      6          0.99842         0.00066           0.99990   \n",
       "100_9           100      9          0.99861         0.00058           1.00000   \n",
       "100_12          100     12          0.99858         0.00059           1.00000   \n",
       "100_15          100     15          0.99859         0.00056           1.00000   \n",
       "\n",
       "        train_score_std  \n",
       "100_3           0.00006  \n",
       "100_6           0.00002  \n",
       "100_9           0.00000  \n",
       "100_12          0.00000  \n",
       "100_15          0.00000  "
      ]
     },
     "execution_count": 30,
     "metadata": {},
     "output_type": "execute_result"
    }
   ],
   "source": [
    "scoring='roc_auc'\n",
    "dct_results = {}\n",
    "\n",
    "for n_estimator in np.arange(100, 1000, 25).tolist():\n",
    "# for n_estimator in [100]:\n",
    "    for depth in [3, 6, 9, 12, 15, 18]:\n",
    "        classifier_lgbm = LGBMClassifier(\n",
    "            **best_params, n_estimators=n_estimator, max_depth=depth\n",
    "        )\n",
    "\n",
    "        cross = cross_validate(\n",
    "            estimator=classifier_lgbm, X=X_exp_02, y=y_exp_02, scoring=scoring, cv=10,\n",
    "            n_jobs=-1, verbose=0, return_train_score=True, \n",
    "        )\n",
    "\n",
    "        dct_results[str(n_estimator)+'_'+str(depth)] = {\n",
    "            'n_estimator': n_estimator,\n",
    "            'depth': depth,\n",
    "            'test_score_mean': cross['test_score'].mean(),\n",
    "            'test_score_std': cross['test_score'].std(),\n",
    "            'train_score_mean': cross['train_score'].mean(),\n",
    "            'train_score_std': cross['train_score'].std(),\n",
    "        }\n",
    "\n",
    "df_results = pd.DataFrame.from_dict(dct_results, orient='index')\n",
    "df_results.head()"
   ]
  },
  {
   "cell_type": "code",
   "execution_count": 33,
   "id": "a267c291",
   "metadata": {
    "ExecuteTime": {
     "end_time": "2023-05-28T03:09:33.382384Z",
     "start_time": "2023-05-28T03:09:33.134430Z"
    }
   },
   "outputs": [
    {
     "data": {
      "text/plain": [
       "0.9978634781632765"
      ]
     },
     "execution_count": 33,
     "metadata": {},
     "output_type": "execute_result"
    }
   ],
   "source": [
    "df_results['test_score_mean'].min()"
   ]
  },
  {
   "cell_type": "code",
   "execution_count": 53,
   "id": "595a48c2",
   "metadata": {
    "ExecuteTime": {
     "end_time": "2023-05-28T03:15:33.166446Z",
     "start_time": "2023-05-28T03:15:32.733140Z"
    }
   },
   "outputs": [
    {
     "data": {
      "image/png": "[encoded data removed]",
      "text/plain": [
       "<Figure size 864x360 with 1 Axes>"
      ]
     },
     "metadata": {},
     "output_type": "display_data"
    }
   ],
   "source": [
    "plt.figure(figsize=(12, 5))\n",
    "\n",
    "ax = sns.lineplot(\n",
    "    data=df_results, x='n_estimator', y='test_score_mean', hue='depth', palette=sns.color_palette(),\n",
    "    style=\"depth\", markers=True\n",
    ")\n",
    "\n",
    "sns.move_legend(ax, \"upper left\", bbox_to_anchor=(1, 1))\n",
    "ax.set_xlim(100, df_results['n_estimator'].max())\n",
    "ax.set_ylim(df_results['test_score_mean'].min(), df_results['test_score_mean'].max()*1.0001);"
   ]
  },
  {
   "cell_type": "markdown",
   "id": "5d48835c",
   "metadata": {},
   "source": [
    "## Log loss vs iterations vs train-test"
   ]
  },
  {
   "cell_type": "code",
   "execution_count": 54,
   "id": "a9c49f8a",
   "metadata": {
    "ExecuteTime": {
     "end_time": "2023-05-28T03:16:07.043220Z",
     "start_time": "2023-05-28T03:16:06.788457Z"
    }
   },
   "outputs": [],
   "source": [
    "lst_iterations = np.arange(0, 326, 1).tolist()\n",
    "lst_iterations[0] = 1"
   ]
  },
  {
   "cell_type": "code",
   "execution_count": 55,
   "id": "f6a52945",
   "metadata": {
    "ExecuteTime": {
     "end_time": "2023-05-28T03:20:58.456726Z",
     "start_time": "2023-05-28T03:16:10.756616Z"
    }
   },
   "outputs": [
    {
     "data": {
      "text/html": [
       "<div>\n",
       "<style scoped>\n",
       "    .dataframe tbody tr th:only-of-type {\n",
       "        vertical-align: middle;\n",
       "    }\n",
       "\n",
       "    .dataframe tbody tr th {\n",
       "        vertical-align: top;\n",
       "    }\n",
       "\n",
       "    .dataframe thead th {\n",
       "        text-align: right;\n",
       "    }\n",
       "</style>\n",
       "<table border=\"1\" class=\"dataframe\">\n",
       "  <thead>\n",
       "    <tr style=\"text-align: right;\">\n",
       "      <th></th>\n",
       "      <th>n_estimator</th>\n",
       "      <th>test_score_mean</th>\n",
       "      <th>test_score_std</th>\n",
       "      <th>train_score_mean</th>\n",
       "      <th>train_score_std</th>\n",
       "    </tr>\n",
       "  </thead>\n",
       "  <tbody>\n",
       "    <tr>\n",
       "      <th>1_6</th>\n",
       "      <td>1</td>\n",
       "      <td>0.64834</td>\n",
       "      <td>0.00068</td>\n",
       "      <td>0.64755</td>\n",
       "      <td>0.00030</td>\n",
       "    </tr>\n",
       "    <tr>\n",
       "      <th>2_6</th>\n",
       "      <td>2</td>\n",
       "      <td>0.61002</td>\n",
       "      <td>0.00133</td>\n",
       "      <td>0.60850</td>\n",
       "      <td>0.00055</td>\n",
       "    </tr>\n",
       "    <tr>\n",
       "      <th>3_6</th>\n",
       "      <td>3</td>\n",
       "      <td>0.57478</td>\n",
       "      <td>0.00200</td>\n",
       "      <td>0.57266</td>\n",
       "      <td>0.00059</td>\n",
       "    </tr>\n",
       "    <tr>\n",
       "      <th>4_6</th>\n",
       "      <td>4</td>\n",
       "      <td>0.54263</td>\n",
       "      <td>0.00279</td>\n",
       "      <td>0.53973</td>\n",
       "      <td>0.00062</td>\n",
       "    </tr>\n",
       "    <tr>\n",
       "      <th>5_6</th>\n",
       "      <td>5</td>\n",
       "      <td>0.51320</td>\n",
       "      <td>0.00332</td>\n",
       "      <td>0.50943</td>\n",
       "      <td>0.00052</td>\n",
       "    </tr>\n",
       "  </tbody>\n",
       "</table>\n",
       "</div>"
      ],
      "text/plain": [
       "     n_estimator  test_score_mean  test_score_std  train_score_mean  \\\n",
       "1_6            1          0.64834         0.00068           0.64755   \n",
       "2_6            2          0.61002         0.00133           0.60850   \n",
       "3_6            3          0.57478         0.00200           0.57266   \n",
       "4_6            4          0.54263         0.00279           0.53973   \n",
       "5_6            5          0.51320         0.00332           0.50943   \n",
       "\n",
       "     train_score_std  \n",
       "1_6          0.00030  \n",
       "2_6          0.00055  \n",
       "3_6          0.00059  \n",
       "4_6          0.00062  \n",
       "5_6          0.00052  "
      ]
     },
     "execution_count": 55,
     "metadata": {},
     "output_type": "execute_result"
    }
   ],
   "source": [
    "scoring='neg_log_loss'\n",
    "dct_results = {}\n",
    "depth = 6\n",
    "n_estimator = 450\n",
    "\n",
    "\n",
    "for n_estimator in lst_iterations:\n",
    "    classifier_lgbm = LGBMClassifier(\n",
    "            **best_params, n_estimators=n_estimator, max_depth=depth\n",
    "        )\n",
    "    \n",
    "    cross = cross_validate(\n",
    "        estimator=classifier_lgbm, X=X_exp_02, y=y_exp_02, scoring=scoring, cv=10,\n",
    "        n_jobs=-1, verbose=0, return_train_score=True, \n",
    "    )\n",
    "\n",
    "    dct_results[str(n_estimator)+'_'+str(depth)] = {\n",
    "        'n_estimator': n_estimator,\n",
    "        'test_score_mean': abs(cross['test_score'].mean()),\n",
    "        'test_score_std': cross['test_score'].std(),\n",
    "        'train_score_mean': abs(cross['train_score'].mean()),\n",
    "        'train_score_std': cross['train_score'].std(),\n",
    "    }\n",
    "\n",
    "df_results = pd.DataFrame.from_dict(dct_results, orient='index')\n",
    "df_results.head()"
   ]
  },
  {
   "cell_type": "code",
   "execution_count": 62,
   "id": "7cd67e82",
   "metadata": {
    "ExecuteTime": {
     "end_time": "2023-05-28T03:22:47.420951Z",
     "start_time": "2023-05-28T03:22:47.187630Z"
    }
   },
   "outputs": [
    {
     "data": {
      "text/html": [
       "<div>\n",
       "<style scoped>\n",
       "    .dataframe tbody tr th:only-of-type {\n",
       "        vertical-align: middle;\n",
       "    }\n",
       "\n",
       "    .dataframe tbody tr th {\n",
       "        vertical-align: top;\n",
       "    }\n",
       "\n",
       "    .dataframe thead th {\n",
       "        text-align: right;\n",
       "    }\n",
       "</style>\n",
       "<table border=\"1\" class=\"dataframe\">\n",
       "  <thead>\n",
       "    <tr style=\"text-align: right;\">\n",
       "      <th></th>\n",
       "      <th>n_estimator</th>\n",
       "      <th>scores</th>\n",
       "      <th>mean</th>\n",
       "    </tr>\n",
       "  </thead>\n",
       "  <tbody>\n",
       "    <tr>\n",
       "      <th>637</th>\n",
       "      <td>313</td>\n",
       "      <td>train_score_mean</td>\n",
       "      <td>0.00158</td>\n",
       "    </tr>\n",
       "    <tr>\n",
       "      <th>220</th>\n",
       "      <td>221</td>\n",
       "      <td>test_score_mean</td>\n",
       "      <td>0.04362</td>\n",
       "    </tr>\n",
       "    <tr>\n",
       "      <th>428</th>\n",
       "      <td>104</td>\n",
       "      <td>train_score_mean</td>\n",
       "      <td>0.02580</td>\n",
       "    </tr>\n",
       "  </tbody>\n",
       "</table>\n",
       "</div>"
      ],
      "text/plain": [
       "     n_estimator            scores    mean\n",
       "637          313  train_score_mean 0.00158\n",
       "220          221   test_score_mean 0.04362\n",
       "428          104  train_score_mean 0.02580"
      ]
     },
     "execution_count": 62,
     "metadata": {},
     "output_type": "execute_result"
    }
   ],
   "source": [
    "df_results_melted = df_results[\n",
    "    ['n_estimator','test_score_mean','train_score_mean']\n",
    "].melt(['n_estimator'], var_name='scores', value_name='mean')\n",
    "\n",
    "df_results_melted.sample(3, random_state=RANDOM_STATE)"
   ]
  },
  {
   "cell_type": "code",
   "execution_count": 66,
   "id": "a2dc55aa",
   "metadata": {
    "ExecuteTime": {
     "end_time": "2023-05-28T03:23:32.168162Z",
     "start_time": "2023-05-28T03:23:31.811783Z"
    },
    "scrolled": true
   },
   "outputs": [
    {
     "data": {
      "image/png": "[encoded data removed]",
      "text/plain": [
       "<Figure size 864x360 with 1 Axes>"
      ]
     },
     "metadata": {},
     "output_type": "display_data"
    }
   ],
   "source": [
    "plt.figure(figsize=(12, 5))\n",
    "\n",
    "ax = sns.lineplot(\n",
    "    data=df_results_melted, x='n_estimator', y='mean', hue='scores', palette=['blue', 'red']\n",
    ")\n",
    "\n",
    "sns.move_legend(ax, \"upper left\", bbox_to_anchor=(1, 1))\n",
    "ax.set_xlim(min(lst_iterations), 250)\n",
    "ax.set_ylim(0, df_results_melted['mean'].max()*1.05);"
   ]
  },
  {
   "cell_type": "code",
   "execution_count": 64,
   "id": "1701b70f",
   "metadata": {
    "ExecuteTime": {
     "end_time": "2023-05-28T03:22:52.528920Z",
     "start_time": "2023-05-28T03:22:52.293920Z"
    }
   },
   "outputs": [
    {
     "data": {
      "text/html": [
       "<div>\n",
       "<style scoped>\n",
       "    .dataframe tbody tr th:only-of-type {\n",
       "        vertical-align: middle;\n",
       "    }\n",
       "\n",
       "    .dataframe tbody tr th {\n",
       "        vertical-align: top;\n",
       "    }\n",
       "\n",
       "    .dataframe thead th {\n",
       "        text-align: right;\n",
       "    }\n",
       "</style>\n",
       "<table border=\"1\" class=\"dataframe\">\n",
       "  <thead>\n",
       "    <tr style=\"text-align: right;\">\n",
       "      <th></th>\n",
       "      <th>n_estimator</th>\n",
       "      <th>test_score_mean</th>\n",
       "      <th>test_score_std</th>\n",
       "      <th>train_score_mean</th>\n",
       "      <th>train_score_std</th>\n",
       "    </tr>\n",
       "  </thead>\n",
       "  <tbody>\n",
       "    <tr>\n",
       "      <th>1_6</th>\n",
       "      <td>1</td>\n",
       "      <td>0.64834</td>\n",
       "      <td>0.00068</td>\n",
       "      <td>0.64755</td>\n",
       "      <td>0.00030</td>\n",
       "    </tr>\n",
       "    <tr>\n",
       "      <th>2_6</th>\n",
       "      <td>2</td>\n",
       "      <td>0.61002</td>\n",
       "      <td>0.00133</td>\n",
       "      <td>0.60850</td>\n",
       "      <td>0.00055</td>\n",
       "    </tr>\n",
       "    <tr>\n",
       "      <th>3_6</th>\n",
       "      <td>3</td>\n",
       "      <td>0.57478</td>\n",
       "      <td>0.00200</td>\n",
       "      <td>0.57266</td>\n",
       "      <td>0.00059</td>\n",
       "    </tr>\n",
       "    <tr>\n",
       "      <th>4_6</th>\n",
       "      <td>4</td>\n",
       "      <td>0.54263</td>\n",
       "      <td>0.00279</td>\n",
       "      <td>0.53973</td>\n",
       "      <td>0.00062</td>\n",
       "    </tr>\n",
       "    <tr>\n",
       "      <th>5_6</th>\n",
       "      <td>5</td>\n",
       "      <td>0.51320</td>\n",
       "      <td>0.00332</td>\n",
       "      <td>0.50943</td>\n",
       "      <td>0.00052</td>\n",
       "    </tr>\n",
       "    <tr>\n",
       "      <th>...</th>\n",
       "      <td>...</td>\n",
       "      <td>...</td>\n",
       "      <td>...</td>\n",
       "      <td>...</td>\n",
       "      <td>...</td>\n",
       "    </tr>\n",
       "    <tr>\n",
       "      <th>181_6</th>\n",
       "      <td>181</td>\n",
       "      <td>0.04317</td>\n",
       "      <td>0.01111</td>\n",
       "      <td>0.00790</td>\n",
       "      <td>0.00039</td>\n",
       "    </tr>\n",
       "    <tr>\n",
       "      <th>198_6</th>\n",
       "      <td>198</td>\n",
       "      <td>0.04317</td>\n",
       "      <td>0.01161</td>\n",
       "      <td>0.00628</td>\n",
       "      <td>0.00036</td>\n",
       "    </tr>\n",
       "    <tr>\n",
       "      <th>192_6</th>\n",
       "      <td>192</td>\n",
       "      <td>0.04316</td>\n",
       "      <td>0.01126</td>\n",
       "      <td>0.00680</td>\n",
       "      <td>0.00034</td>\n",
       "    </tr>\n",
       "    <tr>\n",
       "      <th>193_6</th>\n",
       "      <td>193</td>\n",
       "      <td>0.04315</td>\n",
       "      <td>0.01131</td>\n",
       "      <td>0.00669</td>\n",
       "      <td>0.00035</td>\n",
       "    </tr>\n",
       "    <tr>\n",
       "      <th>191_6</th>\n",
       "      <td>191</td>\n",
       "      <td>0.04314</td>\n",
       "      <td>0.01130</td>\n",
       "      <td>0.00688</td>\n",
       "      <td>0.00034</td>\n",
       "    </tr>\n",
       "  </tbody>\n",
       "</table>\n",
       "<p>325 rows × 5 columns</p>\n",
       "</div>"
      ],
      "text/plain": [
       "       n_estimator  test_score_mean  test_score_std  train_score_mean  \\\n",
       "1_6              1          0.64834         0.00068           0.64755   \n",
       "2_6              2          0.61002         0.00133           0.60850   \n",
       "3_6              3          0.57478         0.00200           0.57266   \n",
       "4_6              4          0.54263         0.00279           0.53973   \n",
       "5_6              5          0.51320         0.00332           0.50943   \n",
       "...            ...              ...             ...               ...   \n",
       "181_6          181          0.04317         0.01111           0.00790   \n",
       "198_6          198          0.04317         0.01161           0.00628   \n",
       "192_6          192          0.04316         0.01126           0.00680   \n",
       "193_6          193          0.04315         0.01131           0.00669   \n",
       "191_6          191          0.04314         0.01130           0.00688   \n",
       "\n",
       "       train_score_std  \n",
       "1_6            0.00030  \n",
       "2_6            0.00055  \n",
       "3_6            0.00059  \n",
       "4_6            0.00062  \n",
       "5_6            0.00052  \n",
       "...                ...  \n",
       "181_6          0.00039  \n",
       "198_6          0.00036  \n",
       "192_6          0.00034  \n",
       "193_6          0.00035  \n",
       "191_6          0.00034  \n",
       "\n",
       "[325 rows x 5 columns]"
      ]
     },
     "execution_count": 64,
     "metadata": {},
     "output_type": "execute_result"
    }
   ],
   "source": [
    "df_results.sort_values(by=['test_score_mean'], ascending=False)"
   ]
  },
  {
   "cell_type": "markdown",
   "id": "19bf59e5",
   "metadata": {},
   "source": [
    "# Random forest - Categorical features encoded by frequency\n",
    "\n",
    "## Data import"
   ]
  },
  {
   "cell_type": "code",
   "execution_count": null,
   "id": "93dae6f1",
   "metadata": {
    "ExecuteTime": {
     "end_time": "2023-05-20T13:36:22.145044Z",
     "start_time": "2023-05-20T13:36:21.867245Z"
    }
   },
   "outputs": [],
   "source": [
    "df_train_exp_02 = pd.read_parquet(INTERIM_FOLDER + 'df_train_exp_02.pqt')\n",
    "df_test_exp_02 = pd.read_parquet(INTERIM_FOLDER + 'df_test_exp_02.pqt')\n",
    "\n",
    "X_train_exp_02 = df_train_exp_02.drop(columns=['Address', 'FLAG'])\n",
    "y_train_exp_02 = df_train_exp_02[['FLAG']]\n",
    "\n",
    "X_test_exp_02 = df_test_exp_02.drop(columns=['Address', 'FLAG'])\n",
    "y_test_exp_02 = df_test_exp_02[['FLAG']]\n",
    "\n",
    "display(X_train_exp_02.head(3))"
   ]
  },
  {
   "cell_type": "markdown",
   "id": "031148af",
   "metadata": {},
   "source": [
    "## Random search"
   ]
  },
  {
   "cell_type": "code",
   "execution_count": null,
   "id": "066fa49c",
   "metadata": {
    "ExecuteTime": {
     "end_time": "2023-05-20T13:46:38.611991Z",
     "start_time": "2023-05-20T13:36:31.337804Z"
    }
   },
   "outputs": [],
   "source": [
    "classifier_rf = RandomForestClassifier(\n",
    "    random_state=RANDOM_STATE, n_jobs=-1, verbose=0\n",
    ")\n",
    "\n",
    "params = dict(\n",
    "    n_estimators=np.arange(50, 600, 150).tolist(),\n",
    "    criterion=['gini', 'entropy', 'log_loss'],\n",
    "    max_depth=np.arange(4, 36, 4).tolist(),\n",
    "    max_features=['sqrt', 'log2'],\n",
    "    ccp_alpha=np.arange(0, 0.035, 0.005).tolist(),\n",
    ")\n",
    "\n",
    "rscv = RandomizedSearchCV(\n",
    "    classifier_rf, params, error_score='raise', random_state=RANDOM_STATE, n_iter=100,\n",
    "    return_train_score=True, scoring='roc_auc', cv=10\n",
    ")\n",
    "\n",
    "search = rscv.fit(X_train_exp_02, y_train_exp_02)\n",
    "search.best_params_"
   ]
  },
  {
   "cell_type": "code",
   "execution_count": null,
   "id": "42fb0563",
   "metadata": {
    "ExecuteTime": {
     "end_time": "2023-05-20T13:46:38.912251Z",
     "start_time": "2023-05-20T13:46:38.613833Z"
    }
   },
   "outputs": [],
   "source": [
    "best_rscv = search.best_params_"
   ]
  },
  {
   "cell_type": "markdown",
   "id": "a3cf48b4",
   "metadata": {},
   "source": [
    "## Grid search"
   ]
  },
  {
   "cell_type": "code",
   "execution_count": null,
   "id": "bee88f90",
   "metadata": {
    "ExecuteTime": {
     "end_time": "2023-05-20T15:05:51.925842Z",
     "start_time": "2023-05-20T15:05:51.731079Z"
    }
   },
   "outputs": [],
   "source": [
    "np.arange(int(best_rscv['max_depth']*.9), int(best_rscv['max_depth']*1.1), 1)"
   ]
  },
  {
   "cell_type": "code",
   "execution_count": null,
   "id": "2dd748dd",
   "metadata": {
    "ExecuteTime": {
     "end_time": "2023-05-20T15:08:44.105996Z",
     "start_time": "2023-05-20T15:06:13.025333Z"
    }
   },
   "outputs": [],
   "source": [
    "classifier_rf = RandomForestClassifier(\n",
    "    random_state=RANDOM_STATE, n_jobs=-1, verbose=0, **best_rscv\n",
    ")\n",
    "\n",
    "params = dict(\n",
    "    n_estimators=np.arange(int(best_rscv['n_estimators']*.9), int(best_rscv['n_estimators']*1.1), 25).tolist(),\n",
    "    max_depth=np.arange(int(best_rscv['max_depth']*.9), int(best_rscv['max_depth']*1.1), 1)\n",
    ")\n",
    "\n",
    "gscv = GridSearchCV(\n",
    "    classifier_rf, params, error_score='raise',\n",
    "    return_train_score=True, scoring='roc_auc', cv=10\n",
    ")\n",
    "\n",
    "grid_search = gscv.fit(X_train_exp_02, y_train_exp_02)\n",
    "grid_search.best_params_"
   ]
  },
  {
   "cell_type": "markdown",
   "id": "d8dc380a",
   "metadata": {},
   "source": [
    "## AUC vs n_estimators vs depth\n",
    "\n",
    "- 10-fold cross validation"
   ]
  },
  {
   "cell_type": "code",
   "execution_count": null,
   "id": "89e87700",
   "metadata": {
    "ExecuteTime": {
     "end_time": "2023-05-20T21:20:42.518403Z",
     "start_time": "2023-05-20T21:20:42.336462Z"
    }
   },
   "outputs": [],
   "source": [
    "X_exp_02 = pd.concat([X_train_exp_02, X_test_exp_02], axis=0)\n",
    "y_exp_02 = pd.concat([y_train_exp_02, y_test_exp_02], axis=0)"
   ]
  },
  {
   "cell_type": "code",
   "execution_count": null,
   "id": "d96aae8b",
   "metadata": {
    "ExecuteTime": {
     "end_time": "2023-05-20T21:20:42.893513Z",
     "start_time": "2023-05-20T21:20:42.702210Z"
    }
   },
   "outputs": [],
   "source": [
    "best_params = {\n",
    "    'max_features': 'sqrt', 'criterion': 'entropy', 'ccp_alpha': 0.0\n",
    "}"
   ]
  },
  {
   "cell_type": "code",
   "execution_count": null,
   "id": "3be69cd5",
   "metadata": {
    "ExecuteTime": {
     "end_time": "2023-05-20T19:47:52.032490Z",
     "start_time": "2023-05-20T19:45:51.291223Z"
    }
   },
   "outputs": [],
   "source": [
    "scoring='roc_auc'\n",
    "dct_results = {}\n",
    "\n",
    "for n_estimator in np.arange(100, 325, 25).tolist():\n",
    "# for n_estimator in [100]:\n",
    "    for depth in [6, 10, 14, 18]:\n",
    "        classifier_rf = RandomForestClassifier(\n",
    "            n_estimators=n_estimator, max_depth=depth, random_state=RANDOM_STATE, n_jobs=-1, verbose=0,\n",
    "            max_features='sqrt', criterion='entropy', ccp_alpha=0.0\n",
    "        )\n",
    "        cross = cross_validate(\n",
    "            estimator=classifier_rf, X=X_exp_02, y=y_exp_02, scoring=scoring, cv=10,\n",
    "            n_jobs=-1, verbose=0, return_train_score=True, \n",
    "        )\n",
    "\n",
    "        dct_results[str(n_estimator)+'_'+str(depth)] = {\n",
    "            'n_estimator': n_estimator,\n",
    "            'depth': depth,\n",
    "            'test_score_mean': cross['test_score'].mean(),\n",
    "            'test_score_std': cross['test_score'].std(),\n",
    "            'train_score_mean': cross['train_score'].mean(),\n",
    "            'train_score_std': cross['train_score'].std(),\n",
    "        }\n",
    "\n",
    "df_results = pd.DataFrame.from_dict(dct_results, orient='index')\n",
    "df_results.head()"
   ]
  },
  {
   "cell_type": "code",
   "execution_count": null,
   "id": "8dd728be",
   "metadata": {
    "ExecuteTime": {
     "end_time": "2023-05-20T19:58:22.721704Z",
     "start_time": "2023-05-20T19:58:22.422878Z"
    }
   },
   "outputs": [],
   "source": [
    "plt.figure(figsize=(6, 4))\n",
    "\n",
    "ax = sns.lineplot(\n",
    "    df_results, x='n_estimator', y='test_score_mean', hue='depth', palette=sns.color_palette(),\n",
    "    style=\"depth\", markers=True\n",
    ")\n",
    "# plt.legend(bbox_to_anchor=(1.02, 1), loc='upper left', borderaxespad=0)\n",
    "sns.move_legend(ax, \"upper left\", bbox_to_anchor=(1, 1))\n",
    "ax.set_xlim(100, 300)\n",
    "ax.set_ylim(0.99725, 0.9985);"
   ]
  },
  {
   "cell_type": "markdown",
   "id": "3eec51fa",
   "metadata": {},
   "source": [
    "## Log loss vs iterations vs train-test"
   ]
  },
  {
   "cell_type": "code",
   "execution_count": null,
   "id": "58e11925",
   "metadata": {
    "ExecuteTime": {
     "end_time": "2023-05-20T21:32:58.671532Z",
     "start_time": "2023-05-20T21:32:58.491933Z"
    }
   },
   "outputs": [],
   "source": [
    "lst_iterations = np.arange(0, 326, 1).tolist()\n",
    "lst_iterations[0] = 1"
   ]
  },
  {
   "cell_type": "code",
   "execution_count": null,
   "id": "a73b9cdb",
   "metadata": {
    "ExecuteTime": {
     "end_time": "2023-05-20T21:52:15.145553Z",
     "start_time": "2023-05-20T21:33:04.945159Z"
    }
   },
   "outputs": [],
   "source": [
    "scoring='neg_log_loss'\n",
    "dct_results = {}\n",
    "depth = 18\n",
    "\n",
    "for n_estimator in lst_iterations:\n",
    "    classifier_rf = RandomForestClassifier(\n",
    "        n_estimators=n_estimator, max_depth=depth, random_state=RANDOM_STATE, n_jobs=-1, verbose=0,\n",
    "        max_features='sqrt', criterion='entropy', ccp_alpha=0.0\n",
    "    )\n",
    "    cross = cross_validate(\n",
    "        estimator=classifier_rf, X=X_exp_02, y=y_exp_02, scoring=scoring, cv=10,\n",
    "        n_jobs=-1, verbose=0, return_train_score=True, \n",
    "    )\n",
    "\n",
    "    dct_results[str(n_estimator)+'_'+str(depth)] = {\n",
    "        'n_estimator': n_estimator,\n",
    "        'test_score_mean': abs(cross['test_score'].mean()),\n",
    "        'test_score_std': cross['test_score'].std(),\n",
    "        'train_score_mean': abs(cross['train_score'].mean()),\n",
    "        'train_score_std': cross['train_score'].std(),\n",
    "    }\n",
    "\n",
    "df_results = pd.DataFrame.from_dict(dct_results, orient='index')\n",
    "df_results.head()"
   ]
  },
  {
   "cell_type": "code",
   "execution_count": null,
   "id": "2b6cc853",
   "metadata": {
    "ExecuteTime": {
     "end_time": "2023-05-20T21:52:15.423554Z",
     "start_time": "2023-05-20T21:52:15.145553Z"
    }
   },
   "outputs": [],
   "source": [
    "df_results_melted = df_results[\n",
    "    ['n_estimator','test_score_mean','train_score_mean']\n",
    "].melt(['n_estimator'], var_name='scores', value_name='mean')\n",
    "\n",
    "df_results_melted.head()"
   ]
  },
  {
   "cell_type": "code",
   "execution_count": null,
   "id": "39deb85b",
   "metadata": {
    "ExecuteTime": {
     "end_time": "2023-05-20T22:03:31.004324Z",
     "start_time": "2023-05-20T22:03:30.718469Z"
    },
    "scrolled": true
   },
   "outputs": [],
   "source": [
    "plt.figure(figsize=(6, 4))\n",
    "\n",
    "ax = sns.lineplot(\n",
    "    df_results_melted, x='n_estimator', y='mean', hue='scores', palette=['blue', 'red']\n",
    ")\n",
    "\n",
    "sns.move_legend(ax, \"upper left\", bbox_to_anchor=(1, 1))\n",
    "ax.set_xlim(min(lst_iterations), 15)\n",
    "ax.set_ylim(0, df_results_melted['mean'].max()*1.05);"
   ]
  }
 ],
 "metadata": {
  "hide_input": false,
  "kernelspec": {
   "display_name": "Python 3 (ipykernel)",
   "language": "python",
   "name": "python3"
  },
  "language_info": {
   "codemirror_mode": {
    "name": "ipython",
    "version": 3
   },
   "file_extension": ".py",
   "mimetype": "text/x-python",
   "name": "python",
   "nbconvert_exporter": "python",
   "pygments_lexer": "ipython3",
   "version": "3.9.13"
  },
  "notify_time": "5",
  "toc": {
   "base_numbering": 1,
   "nav_menu": {},
   "number_sections": true,
   "sideBar": true,
   "skip_h1_title": false,
   "title_cell": "Table of Contents",
   "title_sidebar": "Contents",
   "toc_cell": false,
   "toc_position": {
    "height": "calc(100% - 180px)",
    "left": "10px",
    "top": "150px",
    "width": "444.188px"
   },
   "toc_section_display": true,
   "toc_window_display": true
  }
 },
 "nbformat": 4,
 "nbformat_minor": 5
}
